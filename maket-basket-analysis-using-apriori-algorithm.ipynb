{
 "cells": [
  {
   "cell_type": "markdown",
   "metadata": {},
   "source": [
    "# Phân tích giỏ hàng bằng thuật toán Apriori"
   ]
  },
  {
   "cell_type": "markdown",
   "metadata": {},
   "source": [
    "## I. Giới thiệu \n"
   ]
  },
  {
   "cell_type": "markdown",
   "metadata": {},
   "source": [
    "## II. Dữ liệu\n",
    "\n",
    "Đồ án sử dụng dataset có tên \"The Instacart Online Grocery Shopping Dataset 2017\", được đăng tải bởi chính Instacart trên Kaggle [1]. Dataset bao gồm hơn 3 triệu đơn hàng từ hơn 200.000 khách hàng đã đặt thông qua app và website của Instacart. \n",
    "Dataset gồm có 7 file dữ liệu riêng lẻ: \n",
    "1. aisles.csv (aisle_id, aisle)\n",
    "2. departments.csv (department_id, department)\n",
    "3. order_products_prior.csv (order_id, product_id, add_to_cart_order, reordered)\n",
    "4. order_products_train.csv (order_id, product_id, add_to_cart_order, reordered)\n",
    "5. orders.csv (order_id, user_id, eval_set, order_number, order_dow, order_hour_of_day, days_since_prior_order)\n",
    "6. products.csv (product_id, product_name, aisles_id, department_id)\n",
    "7. sample_submission.csv (order_id, products)\n",
    "\n",
    "Trong phạm vi đồ án, có 3 file dữ liệu sẽ được sử dụng, liên kết với nhau là \"order_products_train\", \"orders\", và \"products\". "
   ]
  },
  {
   "cell_type": "markdown",
   "metadata": {},
   "source": [
    "## III. Thư viện python"
   ]
  },
  {
   "cell_type": "code",
   "execution_count": 35,
   "metadata": {
    "_cell_guid": "f4672532-e449-4bff-a7e4-565f1068f30c",
    "_uuid": "e96fd30b-90c6-4b2e-a52c-c40f6d91416e",
    "execution": {
     "iopub.execute_input": "2021-11-23T08:02:42.892022Z",
     "iopub.status.busy": "2021-11-23T08:02:42.891666Z",
     "iopub.status.idle": "2021-11-23T08:02:44.039961Z",
     "shell.execute_reply": "2021-11-23T08:02:44.038867Z",
     "shell.execute_reply.started": "2021-11-23T08:02:42.891931Z"
    },
    "jupyter": {
     "outputs_hidden": false
    }
   },
   "outputs": [],
   "source": [
    "# Những thư viện cần thiết \n",
    "import opendatasets as od # tải dữ liệu từ kaggle về jupyter notebook\n",
    "import pandas as pd # xử lý dữ liệu.\n",
    "import numpy as np # hỗ trợ tính toán. \n",
    "import matplotlib.pyplot as plt # trực quan hóa dữ liệu.\n",
    "from mlxtend.preprocessing import TransactionEncoder # tiền xử lý dữ liệu để phân tích giỏ hàng.\n",
    "from mlxtend.frequent_patterns import apriori, association_rules # thuật toán Apriori, và luật liên kết để phân tích giỏ hàng."
   ]
  },
  {
   "cell_type": "code",
   "execution_count": 36,
   "metadata": {},
   "outputs": [
    {
     "name": "stdout",
     "output_type": "stream",
     "text": [
      "Skipping, found downloaded files in \".\\instacart-market-basket-analysis\" (use force=True to force download)\n"
     ]
    }
   ],
   "source": [
    "od.download('https://www.kaggle.com/c/instacart-market-basket-analysis/data')"
   ]
  },
  {
   "cell_type": "markdown",
   "metadata": {},
   "source": [
    "Trích dẫn nguồn dữ liệu: https://www.kaggle.com/c/instacart-market-basket-analysis"
   ]
  },
  {
   "cell_type": "markdown",
   "metadata": {},
   "source": [
    "## IV. Tiến hành phân tích"
   ]
  },
  {
   "cell_type": "markdown",
   "metadata": {
    "_cell_guid": "8dbac60d-d8ff-48f6-9c67-4b4fcf980d56",
    "_uuid": "5c671b60-c112-479d-a0dd-1b1e2b05a289"
   },
   "source": [
    "### 1. Khám phá dữ liệu - Exploring data in Python"
   ]
  },
  {
   "cell_type": "code",
   "execution_count": 46,
   "metadata": {
    "_cell_guid": "06e1e696-e0c3-4bab-92b7-73bd1f4dd073",
    "_uuid": "e1111277-6e63-4061-abd2-cb9244d2fab3",
    "execution": {
     "iopub.execute_input": "2021-11-23T08:02:44.042046Z",
     "iopub.status.busy": "2021-11-23T08:02:44.041696Z",
     "iopub.status.idle": "2021-11-23T08:02:44.938115Z",
     "shell.execute_reply": "2021-11-23T08:02:44.936938Z",
     "shell.execute_reply.started": "2021-11-23T08:02:44.042009Z"
    },
    "jupyter": {
     "outputs_hidden": false
    },
    "scrolled": true
   },
   "outputs": [
    {
     "ename": "MemoryError",
     "evalue": "Unable to allocate 1.00 MiB for an array with shape (131072,) and data type int64",
     "output_type": "error",
     "traceback": [
      "\u001b[1;31m---------------------------------------------------------------------------\u001b[0m",
      "\u001b[1;31mMemoryError\u001b[0m                               Traceback (most recent call last)",
      "\u001b[1;32mC:\\Users\\OANHLE~1\\AppData\\Local\\Temp/ipykernel_15376/1222766080.py\u001b[0m in \u001b[0;36m<module>\u001b[1;34m\u001b[0m\n\u001b[0;32m      3\u001b[0m \u001b[1;33m\u001b[0m\u001b[0m\n\u001b[0;32m      4\u001b[0m \u001b[1;31m# Đọc file dữ liệu thứ 1: order_products_train.\u001b[0m\u001b[1;33m\u001b[0m\u001b[1;33m\u001b[0m\u001b[0m\n\u001b[1;32m----> 5\u001b[1;33m \u001b[0morder_product\u001b[0m \u001b[1;33m=\u001b[0m \u001b[0mpd\u001b[0m\u001b[1;33m.\u001b[0m\u001b[0mread_csv\u001b[0m\u001b[1;33m(\u001b[0m\u001b[1;34mr'C:\\Users\\Oanh Le\\Google Drive\\My Drive\\instacart-market-basket-analysis\\order_products__prior.csv'\u001b[0m\u001b[1;33m,\u001b[0m \u001b[0musecols\u001b[0m \u001b[1;33m=\u001b[0m \u001b[0mcol_prior\u001b[0m\u001b[1;33m)\u001b[0m\u001b[1;33m\u001b[0m\u001b[1;33m\u001b[0m\u001b[0m\n\u001b[0m\u001b[0;32m      6\u001b[0m \u001b[1;33m\u001b[0m\u001b[0m\n\u001b[0;32m      7\u001b[0m \u001b[1;31m# In DataFrame order_product.\u001b[0m\u001b[1;33m\u001b[0m\u001b[1;33m\u001b[0m\u001b[0m\n",
      "\u001b[1;32m~\\anaconda3\\lib\\site-packages\\pandas\\util\\_decorators.py\u001b[0m in \u001b[0;36mwrapper\u001b[1;34m(*args, **kwargs)\u001b[0m\n\u001b[0;32m    309\u001b[0m                     \u001b[0mstacklevel\u001b[0m\u001b[1;33m=\u001b[0m\u001b[0mstacklevel\u001b[0m\u001b[1;33m,\u001b[0m\u001b[1;33m\u001b[0m\u001b[1;33m\u001b[0m\u001b[0m\n\u001b[0;32m    310\u001b[0m                 )\n\u001b[1;32m--> 311\u001b[1;33m             \u001b[1;32mreturn\u001b[0m \u001b[0mfunc\u001b[0m\u001b[1;33m(\u001b[0m\u001b[1;33m*\u001b[0m\u001b[0margs\u001b[0m\u001b[1;33m,\u001b[0m \u001b[1;33m**\u001b[0m\u001b[0mkwargs\u001b[0m\u001b[1;33m)\u001b[0m\u001b[1;33m\u001b[0m\u001b[1;33m\u001b[0m\u001b[0m\n\u001b[0m\u001b[0;32m    312\u001b[0m \u001b[1;33m\u001b[0m\u001b[0m\n\u001b[0;32m    313\u001b[0m         \u001b[1;32mreturn\u001b[0m \u001b[0mwrapper\u001b[0m\u001b[1;33m\u001b[0m\u001b[1;33m\u001b[0m\u001b[0m\n",
      "\u001b[1;32m~\\anaconda3\\lib\\site-packages\\pandas\\io\\parsers\\readers.py\u001b[0m in \u001b[0;36mread_csv\u001b[1;34m(filepath_or_buffer, sep, delimiter, header, names, index_col, usecols, squeeze, prefix, mangle_dupe_cols, dtype, engine, converters, true_values, false_values, skipinitialspace, skiprows, skipfooter, nrows, na_values, keep_default_na, na_filter, verbose, skip_blank_lines, parse_dates, infer_datetime_format, keep_date_col, date_parser, dayfirst, cache_dates, iterator, chunksize, compression, thousands, decimal, lineterminator, quotechar, quoting, doublequote, escapechar, comment, encoding, encoding_errors, dialect, error_bad_lines, warn_bad_lines, on_bad_lines, delim_whitespace, low_memory, memory_map, float_precision, storage_options)\u001b[0m\n\u001b[0;32m    584\u001b[0m     \u001b[0mkwds\u001b[0m\u001b[1;33m.\u001b[0m\u001b[0mupdate\u001b[0m\u001b[1;33m(\u001b[0m\u001b[0mkwds_defaults\u001b[0m\u001b[1;33m)\u001b[0m\u001b[1;33m\u001b[0m\u001b[1;33m\u001b[0m\u001b[0m\n\u001b[0;32m    585\u001b[0m \u001b[1;33m\u001b[0m\u001b[0m\n\u001b[1;32m--> 586\u001b[1;33m     \u001b[1;32mreturn\u001b[0m \u001b[0m_read\u001b[0m\u001b[1;33m(\u001b[0m\u001b[0mfilepath_or_buffer\u001b[0m\u001b[1;33m,\u001b[0m \u001b[0mkwds\u001b[0m\u001b[1;33m)\u001b[0m\u001b[1;33m\u001b[0m\u001b[1;33m\u001b[0m\u001b[0m\n\u001b[0m\u001b[0;32m    587\u001b[0m \u001b[1;33m\u001b[0m\u001b[0m\n\u001b[0;32m    588\u001b[0m \u001b[1;33m\u001b[0m\u001b[0m\n",
      "\u001b[1;32m~\\anaconda3\\lib\\site-packages\\pandas\\io\\parsers\\readers.py\u001b[0m in \u001b[0;36m_read\u001b[1;34m(filepath_or_buffer, kwds)\u001b[0m\n\u001b[0;32m    486\u001b[0m \u001b[1;33m\u001b[0m\u001b[0m\n\u001b[0;32m    487\u001b[0m     \u001b[1;32mwith\u001b[0m \u001b[0mparser\u001b[0m\u001b[1;33m:\u001b[0m\u001b[1;33m\u001b[0m\u001b[1;33m\u001b[0m\u001b[0m\n\u001b[1;32m--> 488\u001b[1;33m         \u001b[1;32mreturn\u001b[0m \u001b[0mparser\u001b[0m\u001b[1;33m.\u001b[0m\u001b[0mread\u001b[0m\u001b[1;33m(\u001b[0m\u001b[0mnrows\u001b[0m\u001b[1;33m)\u001b[0m\u001b[1;33m\u001b[0m\u001b[1;33m\u001b[0m\u001b[0m\n\u001b[0m\u001b[0;32m    489\u001b[0m \u001b[1;33m\u001b[0m\u001b[0m\n\u001b[0;32m    490\u001b[0m \u001b[1;33m\u001b[0m\u001b[0m\n",
      "\u001b[1;32m~\\anaconda3\\lib\\site-packages\\pandas\\io\\parsers\\readers.py\u001b[0m in \u001b[0;36mread\u001b[1;34m(self, nrows)\u001b[0m\n\u001b[0;32m   1045\u001b[0m     \u001b[1;32mdef\u001b[0m \u001b[0mread\u001b[0m\u001b[1;33m(\u001b[0m\u001b[0mself\u001b[0m\u001b[1;33m,\u001b[0m \u001b[0mnrows\u001b[0m\u001b[1;33m=\u001b[0m\u001b[1;32mNone\u001b[0m\u001b[1;33m)\u001b[0m\u001b[1;33m:\u001b[0m\u001b[1;33m\u001b[0m\u001b[1;33m\u001b[0m\u001b[0m\n\u001b[0;32m   1046\u001b[0m         \u001b[0mnrows\u001b[0m \u001b[1;33m=\u001b[0m \u001b[0mvalidate_integer\u001b[0m\u001b[1;33m(\u001b[0m\u001b[1;34m\"nrows\"\u001b[0m\u001b[1;33m,\u001b[0m \u001b[0mnrows\u001b[0m\u001b[1;33m)\u001b[0m\u001b[1;33m\u001b[0m\u001b[1;33m\u001b[0m\u001b[0m\n\u001b[1;32m-> 1047\u001b[1;33m         \u001b[0mindex\u001b[0m\u001b[1;33m,\u001b[0m \u001b[0mcolumns\u001b[0m\u001b[1;33m,\u001b[0m \u001b[0mcol_dict\u001b[0m \u001b[1;33m=\u001b[0m \u001b[0mself\u001b[0m\u001b[1;33m.\u001b[0m\u001b[0m_engine\u001b[0m\u001b[1;33m.\u001b[0m\u001b[0mread\u001b[0m\u001b[1;33m(\u001b[0m\u001b[0mnrows\u001b[0m\u001b[1;33m)\u001b[0m\u001b[1;33m\u001b[0m\u001b[1;33m\u001b[0m\u001b[0m\n\u001b[0m\u001b[0;32m   1048\u001b[0m \u001b[1;33m\u001b[0m\u001b[0m\n\u001b[0;32m   1049\u001b[0m         \u001b[1;32mif\u001b[0m \u001b[0mindex\u001b[0m \u001b[1;32mis\u001b[0m \u001b[1;32mNone\u001b[0m\u001b[1;33m:\u001b[0m\u001b[1;33m\u001b[0m\u001b[1;33m\u001b[0m\u001b[0m\n",
      "\u001b[1;32m~\\anaconda3\\lib\\site-packages\\pandas\\io\\parsers\\c_parser_wrapper.py\u001b[0m in \u001b[0;36mread\u001b[1;34m(self, nrows)\u001b[0m\n\u001b[0;32m    221\u001b[0m         \u001b[1;32mtry\u001b[0m\u001b[1;33m:\u001b[0m\u001b[1;33m\u001b[0m\u001b[1;33m\u001b[0m\u001b[0m\n\u001b[0;32m    222\u001b[0m             \u001b[1;32mif\u001b[0m \u001b[0mself\u001b[0m\u001b[1;33m.\u001b[0m\u001b[0mlow_memory\u001b[0m\u001b[1;33m:\u001b[0m\u001b[1;33m\u001b[0m\u001b[1;33m\u001b[0m\u001b[0m\n\u001b[1;32m--> 223\u001b[1;33m                 \u001b[0mchunks\u001b[0m \u001b[1;33m=\u001b[0m \u001b[0mself\u001b[0m\u001b[1;33m.\u001b[0m\u001b[0m_reader\u001b[0m\u001b[1;33m.\u001b[0m\u001b[0mread_low_memory\u001b[0m\u001b[1;33m(\u001b[0m\u001b[0mnrows\u001b[0m\u001b[1;33m)\u001b[0m\u001b[1;33m\u001b[0m\u001b[1;33m\u001b[0m\u001b[0m\n\u001b[0m\u001b[0;32m    224\u001b[0m                 \u001b[1;31m# destructive to chunks\u001b[0m\u001b[1;33m\u001b[0m\u001b[1;33m\u001b[0m\u001b[0m\n\u001b[0;32m    225\u001b[0m                 \u001b[0mdata\u001b[0m \u001b[1;33m=\u001b[0m \u001b[0m_concatenate_chunks\u001b[0m\u001b[1;33m(\u001b[0m\u001b[0mchunks\u001b[0m\u001b[1;33m)\u001b[0m\u001b[1;33m\u001b[0m\u001b[1;33m\u001b[0m\u001b[0m\n",
      "\u001b[1;32m~\\anaconda3\\lib\\site-packages\\pandas\\_libs\\parsers.pyx\u001b[0m in \u001b[0;36mpandas._libs.parsers.TextReader.read_low_memory\u001b[1;34m()\u001b[0m\n",
      "\u001b[1;32m~\\anaconda3\\lib\\site-packages\\pandas\\_libs\\parsers.pyx\u001b[0m in \u001b[0;36mpandas._libs.parsers.TextReader._read_rows\u001b[1;34m()\u001b[0m\n",
      "\u001b[1;32m~\\anaconda3\\lib\\site-packages\\pandas\\_libs\\parsers.pyx\u001b[0m in \u001b[0;36mpandas._libs.parsers.TextReader._convert_column_data\u001b[1;34m()\u001b[0m\n",
      "\u001b[1;32m~\\anaconda3\\lib\\site-packages\\pandas\\_libs\\parsers.pyx\u001b[0m in \u001b[0;36mpandas._libs.parsers.TextReader._convert_tokens\u001b[1;34m()\u001b[0m\n",
      "\u001b[1;32m~\\anaconda3\\lib\\site-packages\\pandas\\_libs\\parsers.pyx\u001b[0m in \u001b[0;36mpandas._libs.parsers.TextReader._convert_with_dtype\u001b[1;34m()\u001b[0m\n",
      "\u001b[1;32m~\\anaconda3\\lib\\site-packages\\pandas\\_libs\\parsers.pyx\u001b[0m in \u001b[0;36mpandas._libs.parsers._try_int64\u001b[1;34m()\u001b[0m\n",
      "\u001b[1;31mMemoryError\u001b[0m: Unable to allocate 1.00 MiB for an array with shape (131072,) and data type int64"
     ]
    }
   ],
   "source": [
    "# Đọc file dữ liệu thứ 1: order_products_train.\n",
    "order_product = pd.read_csv(r'C:\\Users\\Oanh Le\\Google Drive\\My Drive\\instacart-market-basket-analysis\\order_products__prior.csv', usecols = col_prior)\n",
    "\n",
    "# In DataFrame order_product.\n",
    "order_product"
   ]
  },
  {
   "cell_type": "markdown",
   "metadata": {},
   "source": [
    "File dữ liệu order_products_train gồm có order_id và product_id giúp liên kết với 2 bảng orders và products để tạo thành một DataFrame mới. "
   ]
  },
  {
   "cell_type": "code",
   "execution_count": 42,
   "metadata": {
    "_cell_guid": "053e13f5-729d-4e84-a830-98e65b64325c",
    "_uuid": "7557ad0a-af10-49f6-a097-68df1eea4e95",
    "execution": {
     "iopub.execute_input": "2021-11-23T08:02:44.939793Z",
     "iopub.status.busy": "2021-11-23T08:02:44.939293Z",
     "iopub.status.idle": "2021-11-23T08:02:48.001543Z",
     "shell.execute_reply": "2021-11-23T08:02:48.000596Z",
     "shell.execute_reply.started": "2021-11-23T08:02:44.939761Z"
    },
    "jupyter": {
     "outputs_hidden": false
    },
    "scrolled": true
   },
   "outputs": [
    {
     "ename": "MemoryError",
     "evalue": "Unable to allocate 1.00 MiB for an array with shape (131072,) and data type int64",
     "output_type": "error",
     "traceback": [
      "\u001b[1;31m---------------------------------------------------------------------------\u001b[0m",
      "\u001b[1;31mMemoryError\u001b[0m                               Traceback (most recent call last)",
      "\u001b[1;32mC:\\Users\\OANHLE~1\\AppData\\Local\\Temp/ipykernel_15376/2909299067.py\u001b[0m in \u001b[0;36m<module>\u001b[1;34m\u001b[0m\n\u001b[0;32m      1\u001b[0m \u001b[1;31m# Đọc file dữ liệu thứ 2: orders.\u001b[0m\u001b[1;33m\u001b[0m\u001b[1;33m\u001b[0m\u001b[0m\n\u001b[1;32m----> 2\u001b[1;33m \u001b[0morders\u001b[0m \u001b[1;33m=\u001b[0m \u001b[0mpd\u001b[0m\u001b[1;33m.\u001b[0m\u001b[0mread_csv\u001b[0m\u001b[1;33m(\u001b[0m\u001b[1;34mr'C:\\Users\\Oanh Le\\Google Drive\\My Drive\\instacart-market-basket-analysis\\orders.csv'\u001b[0m\u001b[1;33m)\u001b[0m\u001b[1;33m\u001b[0m\u001b[1;33m\u001b[0m\u001b[0m\n\u001b[0m\u001b[0;32m      3\u001b[0m \u001b[1;33m\u001b[0m\u001b[0m\n\u001b[0;32m      4\u001b[0m \u001b[1;31m# In DataFrame orders.\u001b[0m\u001b[1;33m\u001b[0m\u001b[1;33m\u001b[0m\u001b[0m\n\u001b[0;32m      5\u001b[0m \u001b[0morders\u001b[0m\u001b[1;33m\u001b[0m\u001b[1;33m\u001b[0m\u001b[0m\n",
      "\u001b[1;32m~\\anaconda3\\lib\\site-packages\\pandas\\util\\_decorators.py\u001b[0m in \u001b[0;36mwrapper\u001b[1;34m(*args, **kwargs)\u001b[0m\n\u001b[0;32m    309\u001b[0m                     \u001b[0mstacklevel\u001b[0m\u001b[1;33m=\u001b[0m\u001b[0mstacklevel\u001b[0m\u001b[1;33m,\u001b[0m\u001b[1;33m\u001b[0m\u001b[1;33m\u001b[0m\u001b[0m\n\u001b[0;32m    310\u001b[0m                 )\n\u001b[1;32m--> 311\u001b[1;33m             \u001b[1;32mreturn\u001b[0m \u001b[0mfunc\u001b[0m\u001b[1;33m(\u001b[0m\u001b[1;33m*\u001b[0m\u001b[0margs\u001b[0m\u001b[1;33m,\u001b[0m \u001b[1;33m**\u001b[0m\u001b[0mkwargs\u001b[0m\u001b[1;33m)\u001b[0m\u001b[1;33m\u001b[0m\u001b[1;33m\u001b[0m\u001b[0m\n\u001b[0m\u001b[0;32m    312\u001b[0m \u001b[1;33m\u001b[0m\u001b[0m\n\u001b[0;32m    313\u001b[0m         \u001b[1;32mreturn\u001b[0m \u001b[0mwrapper\u001b[0m\u001b[1;33m\u001b[0m\u001b[1;33m\u001b[0m\u001b[0m\n",
      "\u001b[1;32m~\\anaconda3\\lib\\site-packages\\pandas\\io\\parsers\\readers.py\u001b[0m in \u001b[0;36mread_csv\u001b[1;34m(filepath_or_buffer, sep, delimiter, header, names, index_col, usecols, squeeze, prefix, mangle_dupe_cols, dtype, engine, converters, true_values, false_values, skipinitialspace, skiprows, skipfooter, nrows, na_values, keep_default_na, na_filter, verbose, skip_blank_lines, parse_dates, infer_datetime_format, keep_date_col, date_parser, dayfirst, cache_dates, iterator, chunksize, compression, thousands, decimal, lineterminator, quotechar, quoting, doublequote, escapechar, comment, encoding, encoding_errors, dialect, error_bad_lines, warn_bad_lines, on_bad_lines, delim_whitespace, low_memory, memory_map, float_precision, storage_options)\u001b[0m\n\u001b[0;32m    584\u001b[0m     \u001b[0mkwds\u001b[0m\u001b[1;33m.\u001b[0m\u001b[0mupdate\u001b[0m\u001b[1;33m(\u001b[0m\u001b[0mkwds_defaults\u001b[0m\u001b[1;33m)\u001b[0m\u001b[1;33m\u001b[0m\u001b[1;33m\u001b[0m\u001b[0m\n\u001b[0;32m    585\u001b[0m \u001b[1;33m\u001b[0m\u001b[0m\n\u001b[1;32m--> 586\u001b[1;33m     \u001b[1;32mreturn\u001b[0m \u001b[0m_read\u001b[0m\u001b[1;33m(\u001b[0m\u001b[0mfilepath_or_buffer\u001b[0m\u001b[1;33m,\u001b[0m \u001b[0mkwds\u001b[0m\u001b[1;33m)\u001b[0m\u001b[1;33m\u001b[0m\u001b[1;33m\u001b[0m\u001b[0m\n\u001b[0m\u001b[0;32m    587\u001b[0m \u001b[1;33m\u001b[0m\u001b[0m\n\u001b[0;32m    588\u001b[0m \u001b[1;33m\u001b[0m\u001b[0m\n",
      "\u001b[1;32m~\\anaconda3\\lib\\site-packages\\pandas\\io\\parsers\\readers.py\u001b[0m in \u001b[0;36m_read\u001b[1;34m(filepath_or_buffer, kwds)\u001b[0m\n\u001b[0;32m    486\u001b[0m \u001b[1;33m\u001b[0m\u001b[0m\n\u001b[0;32m    487\u001b[0m     \u001b[1;32mwith\u001b[0m \u001b[0mparser\u001b[0m\u001b[1;33m:\u001b[0m\u001b[1;33m\u001b[0m\u001b[1;33m\u001b[0m\u001b[0m\n\u001b[1;32m--> 488\u001b[1;33m         \u001b[1;32mreturn\u001b[0m \u001b[0mparser\u001b[0m\u001b[1;33m.\u001b[0m\u001b[0mread\u001b[0m\u001b[1;33m(\u001b[0m\u001b[0mnrows\u001b[0m\u001b[1;33m)\u001b[0m\u001b[1;33m\u001b[0m\u001b[1;33m\u001b[0m\u001b[0m\n\u001b[0m\u001b[0;32m    489\u001b[0m \u001b[1;33m\u001b[0m\u001b[0m\n\u001b[0;32m    490\u001b[0m \u001b[1;33m\u001b[0m\u001b[0m\n",
      "\u001b[1;32m~\\anaconda3\\lib\\site-packages\\pandas\\io\\parsers\\readers.py\u001b[0m in \u001b[0;36mread\u001b[1;34m(self, nrows)\u001b[0m\n\u001b[0;32m   1045\u001b[0m     \u001b[1;32mdef\u001b[0m \u001b[0mread\u001b[0m\u001b[1;33m(\u001b[0m\u001b[0mself\u001b[0m\u001b[1;33m,\u001b[0m \u001b[0mnrows\u001b[0m\u001b[1;33m=\u001b[0m\u001b[1;32mNone\u001b[0m\u001b[1;33m)\u001b[0m\u001b[1;33m:\u001b[0m\u001b[1;33m\u001b[0m\u001b[1;33m\u001b[0m\u001b[0m\n\u001b[0;32m   1046\u001b[0m         \u001b[0mnrows\u001b[0m \u001b[1;33m=\u001b[0m \u001b[0mvalidate_integer\u001b[0m\u001b[1;33m(\u001b[0m\u001b[1;34m\"nrows\"\u001b[0m\u001b[1;33m,\u001b[0m \u001b[0mnrows\u001b[0m\u001b[1;33m)\u001b[0m\u001b[1;33m\u001b[0m\u001b[1;33m\u001b[0m\u001b[0m\n\u001b[1;32m-> 1047\u001b[1;33m         \u001b[0mindex\u001b[0m\u001b[1;33m,\u001b[0m \u001b[0mcolumns\u001b[0m\u001b[1;33m,\u001b[0m \u001b[0mcol_dict\u001b[0m \u001b[1;33m=\u001b[0m \u001b[0mself\u001b[0m\u001b[1;33m.\u001b[0m\u001b[0m_engine\u001b[0m\u001b[1;33m.\u001b[0m\u001b[0mread\u001b[0m\u001b[1;33m(\u001b[0m\u001b[0mnrows\u001b[0m\u001b[1;33m)\u001b[0m\u001b[1;33m\u001b[0m\u001b[1;33m\u001b[0m\u001b[0m\n\u001b[0m\u001b[0;32m   1048\u001b[0m \u001b[1;33m\u001b[0m\u001b[0m\n\u001b[0;32m   1049\u001b[0m         \u001b[1;32mif\u001b[0m \u001b[0mindex\u001b[0m \u001b[1;32mis\u001b[0m \u001b[1;32mNone\u001b[0m\u001b[1;33m:\u001b[0m\u001b[1;33m\u001b[0m\u001b[1;33m\u001b[0m\u001b[0m\n",
      "\u001b[1;32m~\\anaconda3\\lib\\site-packages\\pandas\\io\\parsers\\c_parser_wrapper.py\u001b[0m in \u001b[0;36mread\u001b[1;34m(self, nrows)\u001b[0m\n\u001b[0;32m    221\u001b[0m         \u001b[1;32mtry\u001b[0m\u001b[1;33m:\u001b[0m\u001b[1;33m\u001b[0m\u001b[1;33m\u001b[0m\u001b[0m\n\u001b[0;32m    222\u001b[0m             \u001b[1;32mif\u001b[0m \u001b[0mself\u001b[0m\u001b[1;33m.\u001b[0m\u001b[0mlow_memory\u001b[0m\u001b[1;33m:\u001b[0m\u001b[1;33m\u001b[0m\u001b[1;33m\u001b[0m\u001b[0m\n\u001b[1;32m--> 223\u001b[1;33m                 \u001b[0mchunks\u001b[0m \u001b[1;33m=\u001b[0m \u001b[0mself\u001b[0m\u001b[1;33m.\u001b[0m\u001b[0m_reader\u001b[0m\u001b[1;33m.\u001b[0m\u001b[0mread_low_memory\u001b[0m\u001b[1;33m(\u001b[0m\u001b[0mnrows\u001b[0m\u001b[1;33m)\u001b[0m\u001b[1;33m\u001b[0m\u001b[1;33m\u001b[0m\u001b[0m\n\u001b[0m\u001b[0;32m    224\u001b[0m                 \u001b[1;31m# destructive to chunks\u001b[0m\u001b[1;33m\u001b[0m\u001b[1;33m\u001b[0m\u001b[0m\n\u001b[0;32m    225\u001b[0m                 \u001b[0mdata\u001b[0m \u001b[1;33m=\u001b[0m \u001b[0m_concatenate_chunks\u001b[0m\u001b[1;33m(\u001b[0m\u001b[0mchunks\u001b[0m\u001b[1;33m)\u001b[0m\u001b[1;33m\u001b[0m\u001b[1;33m\u001b[0m\u001b[0m\n",
      "\u001b[1;32m~\\anaconda3\\lib\\site-packages\\pandas\\_libs\\parsers.pyx\u001b[0m in \u001b[0;36mpandas._libs.parsers.TextReader.read_low_memory\u001b[1;34m()\u001b[0m\n",
      "\u001b[1;32m~\\anaconda3\\lib\\site-packages\\pandas\\_libs\\parsers.pyx\u001b[0m in \u001b[0;36mpandas._libs.parsers.TextReader._read_rows\u001b[1;34m()\u001b[0m\n",
      "\u001b[1;32m~\\anaconda3\\lib\\site-packages\\pandas\\_libs\\parsers.pyx\u001b[0m in \u001b[0;36mpandas._libs.parsers.TextReader._convert_column_data\u001b[1;34m()\u001b[0m\n",
      "\u001b[1;32m~\\anaconda3\\lib\\site-packages\\pandas\\_libs\\parsers.pyx\u001b[0m in \u001b[0;36mpandas._libs.parsers.TextReader._convert_tokens\u001b[1;34m()\u001b[0m\n",
      "\u001b[1;32m~\\anaconda3\\lib\\site-packages\\pandas\\_libs\\parsers.pyx\u001b[0m in \u001b[0;36mpandas._libs.parsers.TextReader._convert_with_dtype\u001b[1;34m()\u001b[0m\n",
      "\u001b[1;32m~\\anaconda3\\lib\\site-packages\\pandas\\_libs\\parsers.pyx\u001b[0m in \u001b[0;36mpandas._libs.parsers._try_int64\u001b[1;34m()\u001b[0m\n",
      "\u001b[1;31mMemoryError\u001b[0m: Unable to allocate 1.00 MiB for an array with shape (131072,) and data type int64"
     ]
    }
   ],
   "source": [
    "# Đọc file dữ liệu thứ 2: orders. \n",
    "orders = pd.read_csv(r'C:\\Users\\Oanh Le\\Google Drive\\My Drive\\instacart-market-basket-analysis\\orders.csv')\n",
    "\n",
    "# In DataFrame orders.\n",
    "orders"
   ]
  },
  {
   "cell_type": "markdown",
   "metadata": {
    "_cell_guid": "c95908b6-d672-4d8e-aa4a-04e89fa5fc41",
    "_uuid": "224f7d0d-b1f7-4f85-9c02-ac51133db9ad"
   },
   "source": [
    "File dữ liệu orders gồm 3.421.083 triệu đơn hàng đã được đặt. "
   ]
  },
  {
   "cell_type": "code",
   "execution_count": 43,
   "metadata": {
    "_cell_guid": "d8925d44-cee1-45d1-add9-fbb5690013e9",
    "_uuid": "ed503227-d8d6-4a51-8ef0-bfcabdd26bce",
    "execution": {
     "iopub.execute_input": "2021-11-23T08:02:48.004062Z",
     "iopub.status.busy": "2021-11-23T08:02:48.003813Z",
     "iopub.status.idle": "2021-11-23T08:02:48.098212Z",
     "shell.execute_reply": "2021-11-23T08:02:48.097293Z",
     "shell.execute_reply.started": "2021-11-23T08:02:48.004031Z"
    },
    "jupyter": {
     "outputs_hidden": false
    },
    "scrolled": true
   },
   "outputs": [
    {
     "data": {
      "text/html": [
       "<div>\n",
       "<style scoped>\n",
       "    .dataframe tbody tr th:only-of-type {\n",
       "        vertical-align: middle;\n",
       "    }\n",
       "\n",
       "    .dataframe tbody tr th {\n",
       "        vertical-align: top;\n",
       "    }\n",
       "\n",
       "    .dataframe thead th {\n",
       "        text-align: right;\n",
       "    }\n",
       "</style>\n",
       "<table border=\"1\" class=\"dataframe\">\n",
       "  <thead>\n",
       "    <tr style=\"text-align: right;\">\n",
       "      <th></th>\n",
       "      <th>product_id</th>\n",
       "      <th>product_name</th>\n",
       "      <th>aisle_id</th>\n",
       "      <th>department_id</th>\n",
       "    </tr>\n",
       "  </thead>\n",
       "  <tbody>\n",
       "    <tr>\n",
       "      <th>0</th>\n",
       "      <td>1</td>\n",
       "      <td>Chocolate Sandwich Cookies</td>\n",
       "      <td>61</td>\n",
       "      <td>19</td>\n",
       "    </tr>\n",
       "    <tr>\n",
       "      <th>1</th>\n",
       "      <td>2</td>\n",
       "      <td>All-Seasons Salt</td>\n",
       "      <td>104</td>\n",
       "      <td>13</td>\n",
       "    </tr>\n",
       "    <tr>\n",
       "      <th>2</th>\n",
       "      <td>3</td>\n",
       "      <td>Robust Golden Unsweetened Oolong Tea</td>\n",
       "      <td>94</td>\n",
       "      <td>7</td>\n",
       "    </tr>\n",
       "    <tr>\n",
       "      <th>3</th>\n",
       "      <td>4</td>\n",
       "      <td>Smart Ones Classic Favorites Mini Rigatoni Wit...</td>\n",
       "      <td>38</td>\n",
       "      <td>1</td>\n",
       "    </tr>\n",
       "    <tr>\n",
       "      <th>4</th>\n",
       "      <td>5</td>\n",
       "      <td>Green Chile Anytime Sauce</td>\n",
       "      <td>5</td>\n",
       "      <td>13</td>\n",
       "    </tr>\n",
       "    <tr>\n",
       "      <th>...</th>\n",
       "      <td>...</td>\n",
       "      <td>...</td>\n",
       "      <td>...</td>\n",
       "      <td>...</td>\n",
       "    </tr>\n",
       "    <tr>\n",
       "      <th>49683</th>\n",
       "      <td>49684</td>\n",
       "      <td>Vodka, Triple Distilled, Twist of Vanilla</td>\n",
       "      <td>124</td>\n",
       "      <td>5</td>\n",
       "    </tr>\n",
       "    <tr>\n",
       "      <th>49684</th>\n",
       "      <td>49685</td>\n",
       "      <td>En Croute Roast Hazelnut Cranberry</td>\n",
       "      <td>42</td>\n",
       "      <td>1</td>\n",
       "    </tr>\n",
       "    <tr>\n",
       "      <th>49685</th>\n",
       "      <td>49686</td>\n",
       "      <td>Artisan Baguette</td>\n",
       "      <td>112</td>\n",
       "      <td>3</td>\n",
       "    </tr>\n",
       "    <tr>\n",
       "      <th>49686</th>\n",
       "      <td>49687</td>\n",
       "      <td>Smartblend Healthy Metabolism Dry Cat Food</td>\n",
       "      <td>41</td>\n",
       "      <td>8</td>\n",
       "    </tr>\n",
       "    <tr>\n",
       "      <th>49687</th>\n",
       "      <td>49688</td>\n",
       "      <td>Fresh Foaming Cleanser</td>\n",
       "      <td>73</td>\n",
       "      <td>11</td>\n",
       "    </tr>\n",
       "  </tbody>\n",
       "</table>\n",
       "<p>49688 rows × 4 columns</p>\n",
       "</div>"
      ],
      "text/plain": [
       "       product_id                                       product_name  \\\n",
       "0               1                         Chocolate Sandwich Cookies   \n",
       "1               2                                   All-Seasons Salt   \n",
       "2               3               Robust Golden Unsweetened Oolong Tea   \n",
       "3               4  Smart Ones Classic Favorites Mini Rigatoni Wit...   \n",
       "4               5                          Green Chile Anytime Sauce   \n",
       "...           ...                                                ...   \n",
       "49683       49684          Vodka, Triple Distilled, Twist of Vanilla   \n",
       "49684       49685                 En Croute Roast Hazelnut Cranberry   \n",
       "49685       49686                                   Artisan Baguette   \n",
       "49686       49687         Smartblend Healthy Metabolism Dry Cat Food   \n",
       "49687       49688                             Fresh Foaming Cleanser   \n",
       "\n",
       "       aisle_id  department_id  \n",
       "0            61             19  \n",
       "1           104             13  \n",
       "2            94              7  \n",
       "3            38              1  \n",
       "4             5             13  \n",
       "...         ...            ...  \n",
       "49683       124              5  \n",
       "49684        42              1  \n",
       "49685       112              3  \n",
       "49686        41              8  \n",
       "49687        73             11  \n",
       "\n",
       "[49688 rows x 4 columns]"
      ]
     },
     "execution_count": 43,
     "metadata": {},
     "output_type": "execute_result"
    }
   ],
   "source": [
    "# Đọc file dữ liệu thứ 3: products. \n",
    "products = pd.read_csv(r'C:\\Users\\Oanh Le\\Google Drive\\My Drive\\instacart-market-basket-analysis\\products.csv')\n",
    "\n",
    "# In DataFrame products.\n",
    "products"
   ]
  },
  {
   "cell_type": "markdown",
   "metadata": {
    "_cell_guid": "31ba5e92-8735-4ebc-90d1-df35a195c1c8",
    "_uuid": "b0de6cf5-d422-4c5d-8c6f-216019d5a40e"
   },
   "source": [
    "File dữ liệu products gồm 49.688 sản phẩm đã được mua. "
   ]
  },
  {
   "cell_type": "code",
   "execution_count": null,
   "metadata": {
    "_cell_guid": "fd81cf7b-f24e-46d7-a549-c754e3629354",
    "_uuid": "1453af18-3cf0-4add-bf42-c35da23f1d65",
    "execution": {
     "iopub.execute_input": "2021-11-23T08:02:48.099735Z",
     "iopub.status.busy": "2021-11-23T08:02:48.099505Z",
     "iopub.status.idle": "2021-11-23T08:02:59.056052Z",
     "shell.execute_reply": "2021-11-23T08:02:59.055043Z",
     "shell.execute_reply.started": "2021-11-23T08:02:48.099707Z"
    },
    "jupyter": {
     "outputs_hidden": false
    },
    "scrolled": true
   },
   "outputs": [],
   "source": [
    "# INNER JOIN 3 DataFrame với nhau.\n",
    "instacart_transaction = order_product.merge(orders, on = 'order_id').merge(products, on = 'product_id')\n",
    "\n",
    "# Xuất file dữ liệu vừa INNER J\"instacart_transaction.csv\".\n",
    "instacart_transaction.to_csv(r'C:\\Users\\Oanh Le\\Google Drive\\My Drive\\instacart-market-basket-analysis\\instacart_transaction.csv', index=False, header=True)\n",
    "\n",
    "# In file vừa tạo. \n",
    "instacart_transaction"
   ]
  },
  {
   "cell_type": "code",
   "execution_count": null,
   "metadata": {
    "_cell_guid": "4be523e1-b6e3-410d-8bb3-d0f407dc4226",
    "_uuid": "76ec403a-dd62-4638-b079-1cc0f76b392a",
    "execution": {
     "iopub.execute_input": "2021-11-23T08:02:59.058196Z",
     "iopub.status.busy": "2021-11-23T08:02:59.057863Z",
     "iopub.status.idle": "2021-11-23T08:03:00.350823Z",
     "shell.execute_reply": "2021-11-23T08:03:00.349876Z",
     "shell.execute_reply.started": "2021-11-23T08:02:59.058151Z"
    },
    "jupyter": {
     "outputs_hidden": false
    },
    "scrolled": true
   },
   "outputs": [],
   "source": [
    "# Tải file dữ liệu vừa mới xuất và chỉ lấy những cột cần thiết để chuẩn bị phân tích. \n",
    "# Chỉ lấy những cột sau.\n",
    "col_insta_trans = ['order_id', 'product_id', 'user_id', 'product_name']\n",
    "\n",
    "# Đọc file dữ liệu vừa mới xuất. \n",
    "instacart_transaction = pd.read_csv(r'C:\\Users\\Oanh Le\\Google Drive\\My Drive\\instacart_datasets\\instacart_transaction.csv', index_col=False, usecols=col_insta_trans)\n",
    "\n",
    "# In DataFrame hoàn chỉnh. \n",
    "instacart_transaction"
   ]
  },
  {
   "cell_type": "code",
   "execution_count": null,
   "metadata": {
    "_cell_guid": "36a7a53e-57da-432a-843b-f55ad3f09bf7",
    "_uuid": "36e8ac8a-6f39-418f-8241-c282efaf1ab6",
    "execution": {
     "iopub.execute_input": "2021-11-23T08:03:00.3522Z",
     "iopub.status.busy": "2021-11-23T08:03:00.351997Z",
     "iopub.status.idle": "2021-11-23T08:03:00.52456Z",
     "shell.execute_reply": "2021-11-23T08:03:00.523585Z",
     "shell.execute_reply.started": "2021-11-23T08:03:00.352175Z"
    },
    "jupyter": {
     "outputs_hidden": false
    },
    "scrolled": true
   },
   "outputs": [],
   "source": [
    "# Thông tin sơ lược về DataFrame.\n",
    "instacart_transaction.info()"
   ]
  },
  {
   "cell_type": "code",
   "execution_count": null,
   "metadata": {
    "_cell_guid": "f95edc56-e0fd-45e0-bfb7-155e97a50567",
    "_uuid": "3a8cba75-9a1d-46d5-a5ee-81d60daa452e",
    "execution": {
     "iopub.execute_input": "2021-11-23T08:03:00.526042Z",
     "iopub.status.busy": "2021-11-23T08:03:00.525822Z",
     "iopub.status.idle": "2021-11-23T08:03:00.689258Z",
     "shell.execute_reply": "2021-11-23T08:03:00.688339Z",
     "shell.execute_reply.started": "2021-11-23T08:03:00.526016Z"
    },
    "jupyter": {
     "outputs_hidden": false
    },
    "scrolled": true
   },
   "outputs": [],
   "source": [
    "# Kiểm tra có trị null hay không \n",
    "instacart_transaction.isna().sum()"
   ]
  },
  {
   "cell_type": "markdown",
   "metadata": {
    "_cell_guid": "ea1f7e43-61a5-4030-8a70-bbade8db5d04",
    "_uuid": "88b6aad1-59f7-4486-b080-eeb4eb239a0c"
   },
   "source": [
    "### 2. Initial exploratory analysis"
   ]
  },
  {
   "cell_type": "code",
   "execution_count": null,
   "metadata": {
    "_cell_guid": "d448c8a0-fc09-40ff-9e5a-c2fa920eaf12",
    "_uuid": "b90b7e8a-4cfd-4e05-a9ea-e8db5ece6ab5",
    "execution": {
     "iopub.execute_input": "2021-11-23T08:03:00.69072Z",
     "iopub.status.busy": "2021-11-23T08:03:00.690502Z",
     "iopub.status.idle": "2021-11-23T08:03:00.777203Z",
     "shell.execute_reply": "2021-11-23T08:03:00.776137Z",
     "shell.execute_reply.started": "2021-11-23T08:03:00.690695Z"
    },
    "jupyter": {
     "outputs_hidden": false
    },
    "scrolled": true
   },
   "outputs": [],
   "source": [
    "# Số lượng đơn hàng mà mỗi người dùng trong hơn 200.000 người đã đặt qua app và website Instacart \n",
    "order_count = instacart_transaction.groupby('user_id')['order_id'].count().reset_index(name='count')\n",
    "order_count"
   ]
  },
  {
   "cell_type": "code",
   "execution_count": null,
   "metadata": {
    "_cell_guid": "f3cf4108-0c77-46f2-a263-d75a275540df",
    "_uuid": "ebf9674f-6a15-4ac8-b597-74204c2e8b4a",
    "execution": {
     "iopub.execute_input": "2021-11-23T08:03:00.78023Z",
     "iopub.status.busy": "2021-11-23T08:03:00.779995Z",
     "iopub.status.idle": "2021-11-23T08:03:00.829049Z",
     "shell.execute_reply": "2021-11-23T08:03:00.828162Z",
     "shell.execute_reply.started": "2021-11-23T08:03:00.780203Z"
    },
    "jupyter": {
     "outputs_hidden": false
    },
    "scrolled": true
   },
   "outputs": [],
   "source": [
    "# Mỗi sản phẩm có bao nhiêu đơn đặt hàng\n",
    "product_count = instacart_transaction.groupby('product_id', as_index=False)['order_id'].count()\n",
    "product_count.rename(columns = {'order_id':'count'},inplace=True)\n",
    "product_count"
   ]
  },
  {
   "cell_type": "code",
   "execution_count": null,
   "metadata": {
    "_cell_guid": "0d65e620-2a68-45db-a6be-5f276aada9e4",
    "_uuid": "ea6930df-0732-4628-b54d-63b88e27c9cf",
    "execution": {
     "iopub.execute_input": "2021-11-23T08:03:00.830701Z",
     "iopub.status.busy": "2021-11-23T08:03:00.830392Z",
     "iopub.status.idle": "2021-11-23T08:03:01.127548Z",
     "shell.execute_reply": "2021-11-23T08:03:01.12575Z",
     "shell.execute_reply.started": "2021-11-23T08:03:00.830657Z"
    },
    "jupyter": {
     "outputs_hidden": false
    },
    "scrolled": true
   },
   "outputs": [],
   "source": [
    "# # Top 10 sản phẩm (product_name) được mua nhiều nhất. \n",
    "top10_count = instacart_transaction[['order_id','product_name']].groupby('product_name',as_index=False)['order_id'].count(\n",
    "    ).sort_values(by='order_id',ascending=False)\n",
    "top10_count.rename(columns = {'order_id':'count'},inplace=True)\n",
    "top10_count.head(10)"
   ]
  },
  {
   "cell_type": "code",
   "execution_count": null,
   "metadata": {
    "_cell_guid": "38c31886-71a5-48d0-b330-a5b6c3b42c2a",
    "_uuid": "fcc6a2d9-e8c6-4726-bb27-77da480f55a9",
    "execution": {
     "iopub.execute_input": "2021-11-23T08:03:01.129033Z",
     "iopub.status.busy": "2021-11-23T08:03:01.128764Z",
     "iopub.status.idle": "2021-11-23T08:03:01.514309Z",
     "shell.execute_reply": "2021-11-23T08:03:01.513625Z",
     "shell.execute_reply.started": "2021-11-23T08:03:01.129005Z"
    },
    "jupyter": {
     "outputs_hidden": false
    },
    "scrolled": true
   },
   "outputs": [],
   "source": [
    "y_axis = top10_count['product_name'].head(10)\n",
    "x_axis = top10_count['count'].head(10)\n",
    "\n",
    "plt.barh(y_axis,x_axis, edgecolor='Silver')\n",
    "\n",
    "plt.title('Top 10 sản phẩm được mua nhiều nhất', color='steelblue',\n",
    "fontfamily='times new roman',fontsize=18)\n",
    "plt.ylabel('Sản phẩm')\n",
    "plt.xlabel('Số lượng')\n",
    "\n",
    "plt.show()"
   ]
  },
  {
   "cell_type": "code",
   "execution_count": null,
   "metadata": {
    "execution": {
     "iopub.execute_input": "2021-11-23T08:03:01.516062Z",
     "iopub.status.busy": "2021-11-23T08:03:01.515292Z",
     "iopub.status.idle": "2021-11-23T08:03:01.766038Z",
     "shell.execute_reply": "2021-11-23T08:03:01.76509Z",
     "shell.execute_reply.started": "2021-11-23T08:03:01.51603Z"
    },
    "scrolled": true
   },
   "outputs": [],
   "source": [
    "# Số lượng trung bình sản phẩm được bán ra.\n",
    "purchase_count = instacart_transaction.groupby('order_id')['product_name'].count()\n",
    "df = pd.DataFrame(purchase_count)\n",
    "df.mean(axis=0)"
   ]
  },
  {
   "cell_type": "markdown",
   "metadata": {},
   "source": [
    "### 3. Chuẩn bị dữ liệu để phân tích giỏ hàng"
   ]
  },
  {
   "cell_type": "code",
   "execution_count": null,
   "metadata": {
    "_cell_guid": "88852d09-5c34-4646-bd6c-d9462caf349e",
    "_uuid": "5fff18f6-ad8b-43a6-88c7-399828612e73",
    "execution": {
     "iopub.execute_input": "2021-11-23T08:03:01.767479Z",
     "iopub.status.busy": "2021-11-23T08:03:01.767217Z",
     "iopub.status.idle": "2021-11-23T08:06:43.976033Z",
     "shell.execute_reply": "2021-11-23T08:06:43.973624Z",
     "shell.execute_reply.started": "2021-11-23T08:03:01.767452Z"
    },
    "scrolled": true
   },
   "outputs": [],
   "source": [
    "# Bước đầu chuyển từ DataFrame sang transaction data để phân tích giỏ hàng \n",
    "# Đếm unique order IDs.\n",
    "order_id = instacart_transaction['order_id'].unique()\n",
    "\n",
    "# Tạo danh sách để chuyển DataFrame thành transaction data \n",
    "transaction = [list(instacart_transaction[instacart_transaction['order_id'] == u].product_name) for u in order_id]\n",
    "\n",
    "\"\"\"\n",
    "Danh sách dưới đây là gồm những đơn hàng (order_id) unique\n",
    "Mỗi danh sách được ví như một giỏ hàng của khách hàng đã mua \n",
    "Và mỗi danh sách được phân cách bằng dấu []\n",
    "\"\"\"\n",
    "# In danh sách vừa tạo. \n",
    "transaction"
   ]
  },
  {
   "cell_type": "code",
   "execution_count": null,
   "metadata": {
    "execution": {
     "iopub.execute_input": "2021-11-23T08:06:43.978342Z",
     "iopub.status.busy": "2021-11-23T08:06:43.977832Z",
     "iopub.status.idle": "2021-11-23T08:06:43.984646Z",
     "shell.execute_reply": "2021-11-23T08:06:43.98385Z",
     "shell.execute_reply.started": "2021-11-23T08:06:43.978288Z"
    },
    "scrolled": true
   },
   "outputs": [],
   "source": [
    "\"\"\"\n",
    "Dưới đây là danh sách (giỏ hàng) gồm những sản phẩm (product_name) \n",
    "mà khách hàng hay mua cùng với nhau. \n",
    "\"\"\"\n",
    "transaction[0] "
   ]
  },
  {
   "cell_type": "code",
   "execution_count": null,
   "metadata": {
    "execution": {
     "iopub.execute_input": "2021-11-23T08:06:43.986522Z",
     "iopub.status.busy": "2021-11-23T08:06:43.986253Z",
     "iopub.status.idle": "2021-11-23T08:06:47.168448Z",
     "shell.execute_reply": "2021-11-23T08:06:47.167519Z",
     "shell.execute_reply.started": "2021-11-23T08:06:43.986494Z"
    },
    "scrolled": true
   },
   "outputs": [],
   "source": [
    "\"\"\"\n",
    "Tiếp tục danh sách vừa tạo sang dạng onehot encoding để tiến hành phân tích giỏ hàng \n",
    "Mỗi cột sẽ là một trong 49,653 sản phẩm (product_name)\n",
    "Với giá trị False ~ (0): không xuất hiện trong giỏ hàng \n",
    "            True  ~ (1): có xuất hiện trong giỏ hàng \n",
    "            * Giỏ hàng ở đây chỉ 1 giỏ hàng của 1 khách hàng (unique).\n",
    "\"\"\"\n",
    "# Instantiate transaction encoder.\n",
    "encoder = TransactionEncoder()\n",
    "# One-hot encode instacart_transaction.\n",
    "onehot = encoder.fit(transaction).transform(transaction)\n",
    "# Sử dụng product_name là cột headers.\n",
    "onehot = pd.DataFrame(onehot, columns = encoder.columns_)\n",
    "# Print onehot header.\n",
    "onehot"
   ]
  },
  {
   "cell_type": "code",
   "execution_count": null,
   "metadata": {
    "execution": {
     "iopub.execute_input": "2021-11-23T08:06:47.169722Z",
     "iopub.status.busy": "2021-11-23T08:06:47.169513Z",
     "iopub.status.idle": "2021-11-23T08:06:52.255333Z",
     "shell.execute_reply": "2021-11-23T08:06:52.254704Z",
     "shell.execute_reply.started": "2021-11-23T08:06:47.169696Z"
    },
    "scrolled": true
   },
   "outputs": [],
   "source": [
    "onehot.mean()"
   ]
  },
  {
   "cell_type": "code",
   "execution_count": null,
   "metadata": {
    "execution": {
     "iopub.execute_input": "2021-11-23T08:06:52.256867Z",
     "iopub.status.busy": "2021-11-23T08:06:52.2565Z",
     "iopub.status.idle": "2021-11-23T08:06:52.286927Z",
     "shell.execute_reply": "2021-11-23T08:06:52.286047Z",
     "shell.execute_reply.started": "2021-11-23T08:06:52.256824Z"
    },
    "scrolled": true
   },
   "outputs": [],
   "source": [
    "# Tính toán giá trị support. \n",
    "support_bananas_bags = np.logical_and(onehot['Banana'], onehot['Bag of Organic Bananas']).mean()\n",
    "support_bananas = onehot['Bananas'].mean()\n",
    "support_bags = onehot['Bag of Organic Bananas'].mean()\n",
    "# Tính toán giá trị confidence and lift.\n",
    "confidence = support_bananas_bags / support_bananas\n",
    "lift = support_bananas_bags / (support_bananas * support_bags)\n",
    "# In kết quả.\n",
    "print(' Giá trị support cho sản phẩm \"Bananas\" là: %f\\n' %support_bananas, 'Giá trị support của sản phẩm \"Bag of Organic Bananas\" là: %f\\n' %support_bags, 'Giá trị confidence là: %f\\n' %confidence, 'Giá trị lift là: %f\\n' %lift)"
   ]
  },
  {
   "cell_type": "markdown",
   "metadata": {},
   "source": [
    "Ý nghĩa của các chỉ số này: "
   ]
  },
  {
   "cell_type": "code",
   "execution_count": null,
   "metadata": {
    "execution": {
     "iopub.execute_input": "2021-11-23T08:06:52.28873Z",
     "iopub.status.busy": "2021-11-23T08:06:52.288045Z",
     "iopub.status.idle": "2021-11-23T08:06:52.315311Z",
     "shell.execute_reply": "2021-11-23T08:06:52.314429Z",
     "shell.execute_reply.started": "2021-11-23T08:06:52.288687Z"
    },
    "scrolled": true
   },
   "outputs": [],
   "source": [
    "# Tính toán chỉ số leverage. \n",
    "# Tính toán trước chỉ số support của Bananas và Limes.\n",
    "support_bananas_limes = np.logical_and(onehot['Bananas'], onehot['Limes']).mean()\n",
    "# Tính toán chỉ số của Bananas. \n",
    "support_bananas = onehot['Bananas'].mean()\n",
    "# Tính toán chỉ số support của Limes. \n",
    "support_limes = onehot['Limes'].mean()\n",
    "# Tính toán chỉ số leverage\n",
    "leverage = support_bananas_limes - support_limes * support_bananas\n",
    "print('Giá trị leverage là: %f' %leverage)"
   ]
  },
  {
   "cell_type": "code",
   "execution_count": null,
   "metadata": {
    "execution": {
     "iopub.execute_input": "2021-11-23T08:06:52.3174Z",
     "iopub.status.busy": "2021-11-23T08:06:52.316901Z",
     "iopub.status.idle": "2021-11-23T08:06:52.321917Z",
     "shell.execute_reply": "2021-11-23T08:06:52.320856Z",
     "shell.execute_reply.started": "2021-11-23T08:06:52.317351Z"
    },
    "scrolled": true
   },
   "outputs": [],
   "source": [
    "# Tính toán chỉ số conviction. \n",
    "# Tính toán chỉ số support cho sản phẩm Bananas, Bags of Organic Bananas, và Limes. \n",
    "#support_bananas_limes = np.logical_and(onehot['Bananas'], onehot['Limes']).mean()\n",
    "# Tính toán chỉ số support cho !Bags of Organic Bananas.\n",
    "#support_not_bags = 1.0 - onehot['Bag of Organic Bananas'].mean()\n",
    "# Tính toán chỉ số support của Bananas và !Bags of Organic Bananas\n",
    "#support_bana_not_bag = support_bananas - support"
   ]
  },
  {
   "cell_type": "code",
   "execution_count": null,
   "metadata": {
    "execution": {
     "iopub.execute_input": "2021-11-23T08:06:52.324006Z",
     "iopub.status.busy": "2021-11-23T08:06:52.32352Z"
    }
   },
   "outputs": [],
   "source": [
    "# Tính toán frequent itemsets\n",
    "frequent_itemsets = apriori(onehot, use_colnames = True, min_support = 0.01)\n",
    "# In tất cả số itemsets\n",
    "print(len(frequent_itemsets))"
   ]
  },
  {
   "cell_type": "code",
   "execution_count": null,
   "metadata": {},
   "outputs": [],
   "source": [
    "frequent_itemsets"
   ]
  },
  {
   "cell_type": "markdown",
   "metadata": {},
   "source": [
    "# Pruning - loại bỏ những weak asscociation rules "
   ]
  },
  {
   "cell_type": "code",
   "execution_count": null,
   "metadata": {},
   "outputs": [],
   "source": [
    "# Tính toán association rules \n",
    "rules = association_rules(frequent_itemsets, metric = 'support', min_threshold = 0.0)\n",
    "rules"
   ]
  },
  {
   "cell_type": "code",
   "execution_count": null,
   "metadata": {},
   "outputs": [],
   "source": [
    "rules.columns"
   ]
  },
  {
   "cell_type": "code",
   "execution_count": null,
   "metadata": {},
   "outputs": [],
   "source": [
    "rules[['antecedents', 'consequents']]"
   ]
  },
  {
   "cell_type": "code",
   "execution_count": null,
   "metadata": {},
   "outputs": [],
   "source": [
    "# Lọc theo từng chỉ số khác \n",
    "#targeted_rules = rules[rules['consequents'] == {}]"
   ]
  },
  {
   "cell_type": "code",
   "execution_count": null,
   "metadata": {},
   "outputs": [],
   "source": [
    "# Tính toán Zhang's rule\n",
    "rules['zhang'] = zhangs_rule(rules)\n",
    "# In rules mà là dissociation \n",
    "rules[rules['zhang'] < 0][['antecedents', 'consequents']]"
   ]
  },
  {
   "cell_type": "markdown",
   "metadata": {},
   "source": [
    "# Tài liệu tham khảo\n",
    "[1]. https://www.kaggle.com/c/instacart-market-basket-analysis\n",
    "* https://pbpython.com/market-basket-analysis.html\n",
    "* https://www.hackerearth.com/blog/developers/beginners-tutorial-apriori-algorithm-data-mining-r-implementation/\n",
    "* https://www.datacamp.com/community/tutorials/market-basket-analysis-r\n",
    "* https://www.kdnuggets.com/2019/12/market-basket-analysis.html\n",
    "* https://www2.deloitte.com/cz/en/pages/deloitte-analytics/solutions/market-basket-analysis.html\n",
    "* https://www.analyticsvidhya.com/blog/2021/10/end-to-end-introduction-to-market-basket-analysis-in-r/\n",
    "* https://www.youtube.com/watch?v=aslTl6i-hpQ\n",
    "* https://www.youtube.com/watch?v=guVvtZ7ZClw\n",
    "* https://www.youtube.com/watch?v=SVM_pX0oTU8\n",
    "* https://www.kaggle.com/pmarcelino/comprehensive-data-exploration-with-python\n",
    "* https://ccc.inaoep.mx/~villasen/bib/Computing%20the%20minimum-support%20for%20mining%20frequent.pdf\n",
    "* https://www.sciencedirect.com/science/article/pii/S0888613X04001392\n",
    "* https://www.sciencedirect.com/science/article/pii/S2314728816300460\n"
   ]
  },
  {
   "cell_type": "code",
   "execution_count": null,
   "metadata": {
    "scrolled": true
   },
   "outputs": [],
   "source": []
  }
 ],
 "metadata": {
  "kernelspec": {
   "display_name": "Python 3 (ipykernel)",
   "language": "python",
   "name": "python3"
  },
  "language_info": {
   "codemirror_mode": {
    "name": "ipython",
    "version": 3
   },
   "file_extension": ".py",
   "mimetype": "text/x-python",
   "name": "python",
   "nbconvert_exporter": "python",
   "pygments_lexer": "ipython3",
   "version": "3.9.7"
  }
 },
 "nbformat": 4,
 "nbformat_minor": 4
}
