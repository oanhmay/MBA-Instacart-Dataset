{
 "cells": [
  {
   "cell_type": "markdown",
   "metadata": {},
   "source": [
    "# Phân tích giỏ hàng bằng thuật toán Apriori"
   ]
  },
  {
   "cell_type": "markdown",
   "metadata": {},
   "source": [
    "## I. Giới thiệu \n"
   ]
  },
  {
   "cell_type": "markdown",
   "metadata": {},
   "source": [
    "## II. Dữ liệu\n",
    "\n",
    "Đồ án sử dụng dataset có tên \"The Instacart Online Grocery Shopping Dataset 2017\", được đăng tải bởi chính Instacart trên Kaggle [1]. Dataset bao gồm hơn 3 triệu đơn hàng từ hơn 200.000 khách hàng đã đặt thông qua app và website của Instacart. \n",
    "Dataset gồm có 7 file dữ liệu riêng lẻ: \n",
    "1. aisles.csv (aisle_id, aisle)\n",
    "2. departments.csv (department_id, department)\n",
    "3. order_products_prior.csv (order_id, product_id, add_to_cart_order, reordered)\n",
    "4. order_products_train.csv (order_id, product_id, add_to_cart_order, reordered)\n",
    "5. orders.csv (order_id, user_id, eval_set, order_number, order_dow, order_hour_of_day, days_since_prior_order)\n",
    "6. products.csv (product_id, product_name, aisles_id, department_id)\n",
    "7. sample_submission.csv (order_id, products)\n",
    "\n",
    "Trong phạm vi đồ án, có 3 file dữ liệu sẽ được sử dụng, liên kết với nhau là \"order_products_train\", \"orders\", và \"products\". "
   ]
  },
  {
   "cell_type": "markdown",
   "metadata": {},
   "source": [
    "## III. Thư viện python"
   ]
  },
  {
   "cell_type": "code",
   "execution_count": 5,
   "metadata": {
    "_cell_guid": "f4672532-e449-4bff-a7e4-565f1068f30c",
    "_uuid": "e96fd30b-90c6-4b2e-a52c-c40f6d91416e",
    "execution": {
     "iopub.execute_input": "2021-11-23T08:02:42.892022Z",
     "iopub.status.busy": "2021-11-23T08:02:42.891666Z",
     "iopub.status.idle": "2021-11-23T08:02:44.039961Z",
     "shell.execute_reply": "2021-11-23T08:02:44.038867Z",
     "shell.execute_reply.started": "2021-11-23T08:02:42.891931Z"
    },
    "jupyter": {
     "outputs_hidden": false
    }
   },
   "outputs": [],
   "source": [
    "# Những thư viện cần thiết \n",
    "import pandas as pd # xử lý dữ liệu.\n",
    "import numpy as np # hỗ trợ tính toán. \n",
    "import matplotlib.pyplot as plt # trực quan hóa dữ liệu.\n",
    "from mlxtend.preprocessing import TransactionEncoder # tiền xử lý dữ liệu để phân tích giỏ hàng.\n",
    "from mlxtend.frequent_patterns import apriori, association_rules # thuật toán Apriori, và luật liên kết để phân tích giỏ hàng."
   ]
  },
  {
   "cell_type": "markdown",
   "metadata": {},
   "source": [
    "Trích dẫn nguồn dữ liệu: https://www.kaggle.com/c/instacart-market-basket-analysis"
   ]
  },
  {
   "cell_type": "markdown",
   "metadata": {},
   "source": [
    "## IV. Tiến hành phân tích"
   ]
  },
  {
   "cell_type": "markdown",
   "metadata": {
    "_cell_guid": "8dbac60d-d8ff-48f6-9c67-4b4fcf980d56",
    "_uuid": "5c671b60-c112-479d-a0dd-1b1e2b05a289"
   },
   "source": [
    "### 1. Khám phá dữ liệu - Exploring data in Python"
   ]
  },
  {
   "cell_type": "code",
   "execution_count": 6,
   "metadata": {
    "_cell_guid": "06e1e696-e0c3-4bab-92b7-73bd1f4dd073",
    "_uuid": "e1111277-6e63-4061-abd2-cb9244d2fab3",
    "execution": {
     "iopub.execute_input": "2021-11-23T08:02:44.042046Z",
     "iopub.status.busy": "2021-11-23T08:02:44.041696Z",
     "iopub.status.idle": "2021-11-23T08:02:44.938115Z",
     "shell.execute_reply": "2021-11-23T08:02:44.936938Z",
     "shell.execute_reply.started": "2021-11-23T08:02:44.042009Z"
    },
    "jupyter": {
     "outputs_hidden": false
    },
    "scrolled": true
   },
   "outputs": [
    {
     "data": {
      "text/html": [
       "<div>\n",
       "<style scoped>\n",
       "    .dataframe tbody tr th:only-of-type {\n",
       "        vertical-align: middle;\n",
       "    }\n",
       "\n",
       "    .dataframe tbody tr th {\n",
       "        vertical-align: top;\n",
       "    }\n",
       "\n",
       "    .dataframe thead th {\n",
       "        text-align: right;\n",
       "    }\n",
       "</style>\n",
       "<table border=\"1\" class=\"dataframe\">\n",
       "  <thead>\n",
       "    <tr style=\"text-align: right;\">\n",
       "      <th></th>\n",
       "      <th>order_id</th>\n",
       "      <th>product_id</th>\n",
       "      <th>add_to_cart_order</th>\n",
       "      <th>reordered</th>\n",
       "    </tr>\n",
       "  </thead>\n",
       "  <tbody>\n",
       "    <tr>\n",
       "      <th>0</th>\n",
       "      <td>2</td>\n",
       "      <td>33120</td>\n",
       "      <td>1</td>\n",
       "      <td>1</td>\n",
       "    </tr>\n",
       "    <tr>\n",
       "      <th>1</th>\n",
       "      <td>2</td>\n",
       "      <td>28985</td>\n",
       "      <td>2</td>\n",
       "      <td>1</td>\n",
       "    </tr>\n",
       "    <tr>\n",
       "      <th>2</th>\n",
       "      <td>2</td>\n",
       "      <td>9327</td>\n",
       "      <td>3</td>\n",
       "      <td>0</td>\n",
       "    </tr>\n",
       "    <tr>\n",
       "      <th>3</th>\n",
       "      <td>2</td>\n",
       "      <td>45918</td>\n",
       "      <td>4</td>\n",
       "      <td>1</td>\n",
       "    </tr>\n",
       "    <tr>\n",
       "      <th>4</th>\n",
       "      <td>2</td>\n",
       "      <td>30035</td>\n",
       "      <td>5</td>\n",
       "      <td>0</td>\n",
       "    </tr>\n",
       "    <tr>\n",
       "      <th>...</th>\n",
       "      <td>...</td>\n",
       "      <td>...</td>\n",
       "      <td>...</td>\n",
       "      <td>...</td>\n",
       "    </tr>\n",
       "    <tr>\n",
       "      <th>32434484</th>\n",
       "      <td>3421083</td>\n",
       "      <td>39678</td>\n",
       "      <td>6</td>\n",
       "      <td>1</td>\n",
       "    </tr>\n",
       "    <tr>\n",
       "      <th>32434485</th>\n",
       "      <td>3421083</td>\n",
       "      <td>11352</td>\n",
       "      <td>7</td>\n",
       "      <td>0</td>\n",
       "    </tr>\n",
       "    <tr>\n",
       "      <th>32434486</th>\n",
       "      <td>3421083</td>\n",
       "      <td>4600</td>\n",
       "      <td>8</td>\n",
       "      <td>0</td>\n",
       "    </tr>\n",
       "    <tr>\n",
       "      <th>32434487</th>\n",
       "      <td>3421083</td>\n",
       "      <td>24852</td>\n",
       "      <td>9</td>\n",
       "      <td>1</td>\n",
       "    </tr>\n",
       "    <tr>\n",
       "      <th>32434488</th>\n",
       "      <td>3421083</td>\n",
       "      <td>5020</td>\n",
       "      <td>10</td>\n",
       "      <td>1</td>\n",
       "    </tr>\n",
       "  </tbody>\n",
       "</table>\n",
       "<p>32434489 rows × 4 columns</p>\n",
       "</div>"
      ],
      "text/plain": [
       "          order_id  product_id  add_to_cart_order  reordered\n",
       "0                2       33120                  1          1\n",
       "1                2       28985                  2          1\n",
       "2                2        9327                  3          0\n",
       "3                2       45918                  4          1\n",
       "4                2       30035                  5          0\n",
       "...            ...         ...                ...        ...\n",
       "32434484   3421083       39678                  6          1\n",
       "32434485   3421083       11352                  7          0\n",
       "32434486   3421083        4600                  8          0\n",
       "32434487   3421083       24852                  9          1\n",
       "32434488   3421083        5020                 10          1\n",
       "\n",
       "[32434489 rows x 4 columns]"
      ]
     },
     "execution_count": 6,
     "metadata": {},
     "output_type": "execute_result"
    }
   ],
   "source": [
    "# Đọc file dữ liệu thứ 1: order_products_train.\n",
    "order_product = pd.read_csv(r'C:\\Users\\Oanh Le\\Google Drive\\My Drive\\instacart-market-basket-analysis\\order_products__prior.csv')\n",
    "\n",
    "# In DataFrame order_product.\n",
    "order_product"
   ]
  },
  {
   "cell_type": "markdown",
   "metadata": {},
   "source": [
    "File dữ liệu order_products_train gồm có order_id và product_id giúp liên kết với 2 bảng orders và products để tạo thành một DataFrame mới. "
   ]
  },
  {
   "cell_type": "code",
   "execution_count": 7,
   "metadata": {
    "_cell_guid": "053e13f5-729d-4e84-a830-98e65b64325c",
    "_uuid": "7557ad0a-af10-49f6-a097-68df1eea4e95",
    "execution": {
     "iopub.execute_input": "2021-11-23T08:02:44.939793Z",
     "iopub.status.busy": "2021-11-23T08:02:44.939293Z",
     "iopub.status.idle": "2021-11-23T08:02:48.001543Z",
     "shell.execute_reply": "2021-11-23T08:02:48.000596Z",
     "shell.execute_reply.started": "2021-11-23T08:02:44.939761Z"
    },
    "jupyter": {
     "outputs_hidden": false
    },
    "scrolled": true
   },
   "outputs": [
    {
     "data": {
      "text/html": [
       "<div>\n",
       "<style scoped>\n",
       "    .dataframe tbody tr th:only-of-type {\n",
       "        vertical-align: middle;\n",
       "    }\n",
       "\n",
       "    .dataframe tbody tr th {\n",
       "        vertical-align: top;\n",
       "    }\n",
       "\n",
       "    .dataframe thead th {\n",
       "        text-align: right;\n",
       "    }\n",
       "</style>\n",
       "<table border=\"1\" class=\"dataframe\">\n",
       "  <thead>\n",
       "    <tr style=\"text-align: right;\">\n",
       "      <th></th>\n",
       "      <th>order_id</th>\n",
       "      <th>user_id</th>\n",
       "      <th>eval_set</th>\n",
       "      <th>order_number</th>\n",
       "      <th>order_dow</th>\n",
       "      <th>order_hour_of_day</th>\n",
       "      <th>days_since_prior_order</th>\n",
       "    </tr>\n",
       "  </thead>\n",
       "  <tbody>\n",
       "    <tr>\n",
       "      <th>0</th>\n",
       "      <td>2539329</td>\n",
       "      <td>1</td>\n",
       "      <td>prior</td>\n",
       "      <td>1</td>\n",
       "      <td>2</td>\n",
       "      <td>8</td>\n",
       "      <td>NaN</td>\n",
       "    </tr>\n",
       "    <tr>\n",
       "      <th>1</th>\n",
       "      <td>2398795</td>\n",
       "      <td>1</td>\n",
       "      <td>prior</td>\n",
       "      <td>2</td>\n",
       "      <td>3</td>\n",
       "      <td>7</td>\n",
       "      <td>15.0</td>\n",
       "    </tr>\n",
       "    <tr>\n",
       "      <th>2</th>\n",
       "      <td>473747</td>\n",
       "      <td>1</td>\n",
       "      <td>prior</td>\n",
       "      <td>3</td>\n",
       "      <td>3</td>\n",
       "      <td>12</td>\n",
       "      <td>21.0</td>\n",
       "    </tr>\n",
       "    <tr>\n",
       "      <th>3</th>\n",
       "      <td>2254736</td>\n",
       "      <td>1</td>\n",
       "      <td>prior</td>\n",
       "      <td>4</td>\n",
       "      <td>4</td>\n",
       "      <td>7</td>\n",
       "      <td>29.0</td>\n",
       "    </tr>\n",
       "    <tr>\n",
       "      <th>4</th>\n",
       "      <td>431534</td>\n",
       "      <td>1</td>\n",
       "      <td>prior</td>\n",
       "      <td>5</td>\n",
       "      <td>4</td>\n",
       "      <td>15</td>\n",
       "      <td>28.0</td>\n",
       "    </tr>\n",
       "    <tr>\n",
       "      <th>...</th>\n",
       "      <td>...</td>\n",
       "      <td>...</td>\n",
       "      <td>...</td>\n",
       "      <td>...</td>\n",
       "      <td>...</td>\n",
       "      <td>...</td>\n",
       "      <td>...</td>\n",
       "    </tr>\n",
       "    <tr>\n",
       "      <th>3421078</th>\n",
       "      <td>2266710</td>\n",
       "      <td>206209</td>\n",
       "      <td>prior</td>\n",
       "      <td>10</td>\n",
       "      <td>5</td>\n",
       "      <td>18</td>\n",
       "      <td>29.0</td>\n",
       "    </tr>\n",
       "    <tr>\n",
       "      <th>3421079</th>\n",
       "      <td>1854736</td>\n",
       "      <td>206209</td>\n",
       "      <td>prior</td>\n",
       "      <td>11</td>\n",
       "      <td>4</td>\n",
       "      <td>10</td>\n",
       "      <td>30.0</td>\n",
       "    </tr>\n",
       "    <tr>\n",
       "      <th>3421080</th>\n",
       "      <td>626363</td>\n",
       "      <td>206209</td>\n",
       "      <td>prior</td>\n",
       "      <td>12</td>\n",
       "      <td>1</td>\n",
       "      <td>12</td>\n",
       "      <td>18.0</td>\n",
       "    </tr>\n",
       "    <tr>\n",
       "      <th>3421081</th>\n",
       "      <td>2977660</td>\n",
       "      <td>206209</td>\n",
       "      <td>prior</td>\n",
       "      <td>13</td>\n",
       "      <td>1</td>\n",
       "      <td>12</td>\n",
       "      <td>7.0</td>\n",
       "    </tr>\n",
       "    <tr>\n",
       "      <th>3421082</th>\n",
       "      <td>272231</td>\n",
       "      <td>206209</td>\n",
       "      <td>train</td>\n",
       "      <td>14</td>\n",
       "      <td>6</td>\n",
       "      <td>14</td>\n",
       "      <td>30.0</td>\n",
       "    </tr>\n",
       "  </tbody>\n",
       "</table>\n",
       "<p>3421083 rows × 7 columns</p>\n",
       "</div>"
      ],
      "text/plain": [
       "         order_id  user_id eval_set  order_number  order_dow  \\\n",
       "0         2539329        1    prior             1          2   \n",
       "1         2398795        1    prior             2          3   \n",
       "2          473747        1    prior             3          3   \n",
       "3         2254736        1    prior             4          4   \n",
       "4          431534        1    prior             5          4   \n",
       "...           ...      ...      ...           ...        ...   \n",
       "3421078   2266710   206209    prior            10          5   \n",
       "3421079   1854736   206209    prior            11          4   \n",
       "3421080    626363   206209    prior            12          1   \n",
       "3421081   2977660   206209    prior            13          1   \n",
       "3421082    272231   206209    train            14          6   \n",
       "\n",
       "         order_hour_of_day  days_since_prior_order  \n",
       "0                        8                     NaN  \n",
       "1                        7                    15.0  \n",
       "2                       12                    21.0  \n",
       "3                        7                    29.0  \n",
       "4                       15                    28.0  \n",
       "...                    ...                     ...  \n",
       "3421078                 18                    29.0  \n",
       "3421079                 10                    30.0  \n",
       "3421080                 12                    18.0  \n",
       "3421081                 12                     7.0  \n",
       "3421082                 14                    30.0  \n",
       "\n",
       "[3421083 rows x 7 columns]"
      ]
     },
     "execution_count": 7,
     "metadata": {},
     "output_type": "execute_result"
    }
   ],
   "source": [
    "# Đọc file dữ liệu thứ 2: orders. \n",
    "orders = pd.read_csv(r'C:\\Users\\Oanh Le\\Google Drive\\My Drive\\instacart-market-basket-analysis\\orders.csv')\n",
    "\n",
    "# In DataFrame orders.\n",
    "orders"
   ]
  },
  {
   "cell_type": "markdown",
   "metadata": {
    "_cell_guid": "c95908b6-d672-4d8e-aa4a-04e89fa5fc41",
    "_uuid": "224f7d0d-b1f7-4f85-9c02-ac51133db9ad"
   },
   "source": [
    "File dữ liệu orders gồm 3.421.083 triệu đơn hàng đã được đặt. "
   ]
  },
  {
   "cell_type": "code",
   "execution_count": 8,
   "metadata": {
    "_cell_guid": "d8925d44-cee1-45d1-add9-fbb5690013e9",
    "_uuid": "ed503227-d8d6-4a51-8ef0-bfcabdd26bce",
    "execution": {
     "iopub.execute_input": "2021-11-23T08:02:48.004062Z",
     "iopub.status.busy": "2021-11-23T08:02:48.003813Z",
     "iopub.status.idle": "2021-11-23T08:02:48.098212Z",
     "shell.execute_reply": "2021-11-23T08:02:48.097293Z",
     "shell.execute_reply.started": "2021-11-23T08:02:48.004031Z"
    },
    "jupyter": {
     "outputs_hidden": false
    },
    "scrolled": true
   },
   "outputs": [
    {
     "data": {
      "text/html": [
       "<div>\n",
       "<style scoped>\n",
       "    .dataframe tbody tr th:only-of-type {\n",
       "        vertical-align: middle;\n",
       "    }\n",
       "\n",
       "    .dataframe tbody tr th {\n",
       "        vertical-align: top;\n",
       "    }\n",
       "\n",
       "    .dataframe thead th {\n",
       "        text-align: right;\n",
       "    }\n",
       "</style>\n",
       "<table border=\"1\" class=\"dataframe\">\n",
       "  <thead>\n",
       "    <tr style=\"text-align: right;\">\n",
       "      <th></th>\n",
       "      <th>product_id</th>\n",
       "      <th>product_name</th>\n",
       "      <th>aisle_id</th>\n",
       "      <th>department_id</th>\n",
       "    </tr>\n",
       "  </thead>\n",
       "  <tbody>\n",
       "    <tr>\n",
       "      <th>0</th>\n",
       "      <td>1</td>\n",
       "      <td>Chocolate Sandwich Cookies</td>\n",
       "      <td>61</td>\n",
       "      <td>19</td>\n",
       "    </tr>\n",
       "    <tr>\n",
       "      <th>1</th>\n",
       "      <td>2</td>\n",
       "      <td>All-Seasons Salt</td>\n",
       "      <td>104</td>\n",
       "      <td>13</td>\n",
       "    </tr>\n",
       "    <tr>\n",
       "      <th>2</th>\n",
       "      <td>3</td>\n",
       "      <td>Robust Golden Unsweetened Oolong Tea</td>\n",
       "      <td>94</td>\n",
       "      <td>7</td>\n",
       "    </tr>\n",
       "    <tr>\n",
       "      <th>3</th>\n",
       "      <td>4</td>\n",
       "      <td>Smart Ones Classic Favorites Mini Rigatoni Wit...</td>\n",
       "      <td>38</td>\n",
       "      <td>1</td>\n",
       "    </tr>\n",
       "    <tr>\n",
       "      <th>4</th>\n",
       "      <td>5</td>\n",
       "      <td>Green Chile Anytime Sauce</td>\n",
       "      <td>5</td>\n",
       "      <td>13</td>\n",
       "    </tr>\n",
       "    <tr>\n",
       "      <th>...</th>\n",
       "      <td>...</td>\n",
       "      <td>...</td>\n",
       "      <td>...</td>\n",
       "      <td>...</td>\n",
       "    </tr>\n",
       "    <tr>\n",
       "      <th>49683</th>\n",
       "      <td>49684</td>\n",
       "      <td>Vodka, Triple Distilled, Twist of Vanilla</td>\n",
       "      <td>124</td>\n",
       "      <td>5</td>\n",
       "    </tr>\n",
       "    <tr>\n",
       "      <th>49684</th>\n",
       "      <td>49685</td>\n",
       "      <td>En Croute Roast Hazelnut Cranberry</td>\n",
       "      <td>42</td>\n",
       "      <td>1</td>\n",
       "    </tr>\n",
       "    <tr>\n",
       "      <th>49685</th>\n",
       "      <td>49686</td>\n",
       "      <td>Artisan Baguette</td>\n",
       "      <td>112</td>\n",
       "      <td>3</td>\n",
       "    </tr>\n",
       "    <tr>\n",
       "      <th>49686</th>\n",
       "      <td>49687</td>\n",
       "      <td>Smartblend Healthy Metabolism Dry Cat Food</td>\n",
       "      <td>41</td>\n",
       "      <td>8</td>\n",
       "    </tr>\n",
       "    <tr>\n",
       "      <th>49687</th>\n",
       "      <td>49688</td>\n",
       "      <td>Fresh Foaming Cleanser</td>\n",
       "      <td>73</td>\n",
       "      <td>11</td>\n",
       "    </tr>\n",
       "  </tbody>\n",
       "</table>\n",
       "<p>49688 rows × 4 columns</p>\n",
       "</div>"
      ],
      "text/plain": [
       "       product_id                                       product_name  \\\n",
       "0               1                         Chocolate Sandwich Cookies   \n",
       "1               2                                   All-Seasons Salt   \n",
       "2               3               Robust Golden Unsweetened Oolong Tea   \n",
       "3               4  Smart Ones Classic Favorites Mini Rigatoni Wit...   \n",
       "4               5                          Green Chile Anytime Sauce   \n",
       "...           ...                                                ...   \n",
       "49683       49684          Vodka, Triple Distilled, Twist of Vanilla   \n",
       "49684       49685                 En Croute Roast Hazelnut Cranberry   \n",
       "49685       49686                                   Artisan Baguette   \n",
       "49686       49687         Smartblend Healthy Metabolism Dry Cat Food   \n",
       "49687       49688                             Fresh Foaming Cleanser   \n",
       "\n",
       "       aisle_id  department_id  \n",
       "0            61             19  \n",
       "1           104             13  \n",
       "2            94              7  \n",
       "3            38              1  \n",
       "4             5             13  \n",
       "...         ...            ...  \n",
       "49683       124              5  \n",
       "49684        42              1  \n",
       "49685       112              3  \n",
       "49686        41              8  \n",
       "49687        73             11  \n",
       "\n",
       "[49688 rows x 4 columns]"
      ]
     },
     "execution_count": 8,
     "metadata": {},
     "output_type": "execute_result"
    }
   ],
   "source": [
    "# Đọc file dữ liệu thứ 3: products. \n",
    "products = pd.read_csv(r'C:\\Users\\Oanh Le\\Google Drive\\My Drive\\instacart-market-basket-analysis\\products.csv')\n",
    "\n",
    "# In DataFrame products.\n",
    "products"
   ]
  },
  {
   "cell_type": "markdown",
   "metadata": {
    "_cell_guid": "31ba5e92-8735-4ebc-90d1-df35a195c1c8",
    "_uuid": "b0de6cf5-d422-4c5d-8c6f-216019d5a40e"
   },
   "source": [
    "File dữ liệu products gồm 49.688 sản phẩm đã được mua. "
   ]
  },
  {
   "cell_type": "code",
   "execution_count": 9,
   "metadata": {
    "_cell_guid": "fd81cf7b-f24e-46d7-a549-c754e3629354",
    "_uuid": "1453af18-3cf0-4add-bf42-c35da23f1d65",
    "execution": {
     "iopub.execute_input": "2021-11-23T08:02:48.099735Z",
     "iopub.status.busy": "2021-11-23T08:02:48.099505Z",
     "iopub.status.idle": "2021-11-23T08:02:59.056052Z",
     "shell.execute_reply": "2021-11-23T08:02:59.055043Z",
     "shell.execute_reply.started": "2021-11-23T08:02:48.099707Z"
    },
    "jupyter": {
     "outputs_hidden": false
    },
    "scrolled": true
   },
   "outputs": [
    {
     "data": {
      "text/html": [
       "<div>\n",
       "<style scoped>\n",
       "    .dataframe tbody tr th:only-of-type {\n",
       "        vertical-align: middle;\n",
       "    }\n",
       "\n",
       "    .dataframe tbody tr th {\n",
       "        vertical-align: top;\n",
       "    }\n",
       "\n",
       "    .dataframe thead th {\n",
       "        text-align: right;\n",
       "    }\n",
       "</style>\n",
       "<table border=\"1\" class=\"dataframe\">\n",
       "  <thead>\n",
       "    <tr style=\"text-align: right;\">\n",
       "      <th></th>\n",
       "      <th>order_id</th>\n",
       "      <th>product_id</th>\n",
       "      <th>add_to_cart_order</th>\n",
       "      <th>reordered</th>\n",
       "      <th>user_id</th>\n",
       "      <th>eval_set</th>\n",
       "      <th>order_number</th>\n",
       "      <th>order_dow</th>\n",
       "      <th>order_hour_of_day</th>\n",
       "      <th>days_since_prior_order</th>\n",
       "      <th>product_name</th>\n",
       "      <th>aisle_id</th>\n",
       "      <th>department_id</th>\n",
       "    </tr>\n",
       "  </thead>\n",
       "  <tbody>\n",
       "    <tr>\n",
       "      <th>0</th>\n",
       "      <td>2</td>\n",
       "      <td>33120</td>\n",
       "      <td>1</td>\n",
       "      <td>1</td>\n",
       "      <td>202279</td>\n",
       "      <td>prior</td>\n",
       "      <td>3</td>\n",
       "      <td>5</td>\n",
       "      <td>9</td>\n",
       "      <td>8.0</td>\n",
       "      <td>Organic Egg Whites</td>\n",
       "      <td>86</td>\n",
       "      <td>16</td>\n",
       "    </tr>\n",
       "    <tr>\n",
       "      <th>1</th>\n",
       "      <td>26</td>\n",
       "      <td>33120</td>\n",
       "      <td>5</td>\n",
       "      <td>0</td>\n",
       "      <td>153404</td>\n",
       "      <td>prior</td>\n",
       "      <td>2</td>\n",
       "      <td>0</td>\n",
       "      <td>16</td>\n",
       "      <td>7.0</td>\n",
       "      <td>Organic Egg Whites</td>\n",
       "      <td>86</td>\n",
       "      <td>16</td>\n",
       "    </tr>\n",
       "    <tr>\n",
       "      <th>2</th>\n",
       "      <td>120</td>\n",
       "      <td>33120</td>\n",
       "      <td>13</td>\n",
       "      <td>0</td>\n",
       "      <td>23750</td>\n",
       "      <td>prior</td>\n",
       "      <td>11</td>\n",
       "      <td>6</td>\n",
       "      <td>8</td>\n",
       "      <td>10.0</td>\n",
       "      <td>Organic Egg Whites</td>\n",
       "      <td>86</td>\n",
       "      <td>16</td>\n",
       "    </tr>\n",
       "    <tr>\n",
       "      <th>3</th>\n",
       "      <td>327</td>\n",
       "      <td>33120</td>\n",
       "      <td>5</td>\n",
       "      <td>1</td>\n",
       "      <td>58707</td>\n",
       "      <td>prior</td>\n",
       "      <td>21</td>\n",
       "      <td>6</td>\n",
       "      <td>9</td>\n",
       "      <td>8.0</td>\n",
       "      <td>Organic Egg Whites</td>\n",
       "      <td>86</td>\n",
       "      <td>16</td>\n",
       "    </tr>\n",
       "    <tr>\n",
       "      <th>4</th>\n",
       "      <td>390</td>\n",
       "      <td>33120</td>\n",
       "      <td>28</td>\n",
       "      <td>1</td>\n",
       "      <td>166654</td>\n",
       "      <td>prior</td>\n",
       "      <td>48</td>\n",
       "      <td>0</td>\n",
       "      <td>12</td>\n",
       "      <td>9.0</td>\n",
       "      <td>Organic Egg Whites</td>\n",
       "      <td>86</td>\n",
       "      <td>16</td>\n",
       "    </tr>\n",
       "    <tr>\n",
       "      <th>...</th>\n",
       "      <td>...</td>\n",
       "      <td>...</td>\n",
       "      <td>...</td>\n",
       "      <td>...</td>\n",
       "      <td>...</td>\n",
       "      <td>...</td>\n",
       "      <td>...</td>\n",
       "      <td>...</td>\n",
       "      <td>...</td>\n",
       "      <td>...</td>\n",
       "      <td>...</td>\n",
       "      <td>...</td>\n",
       "      <td>...</td>\n",
       "    </tr>\n",
       "    <tr>\n",
       "      <th>32434484</th>\n",
       "      <td>3265099</td>\n",
       "      <td>43492</td>\n",
       "      <td>3</td>\n",
       "      <td>0</td>\n",
       "      <td>111311</td>\n",
       "      <td>prior</td>\n",
       "      <td>2</td>\n",
       "      <td>3</td>\n",
       "      <td>10</td>\n",
       "      <td>5.0</td>\n",
       "      <td>Gourmet Burger Seasoning</td>\n",
       "      <td>104</td>\n",
       "      <td>13</td>\n",
       "    </tr>\n",
       "    <tr>\n",
       "      <th>32434485</th>\n",
       "      <td>3361945</td>\n",
       "      <td>43492</td>\n",
       "      <td>19</td>\n",
       "      <td>0</td>\n",
       "      <td>142932</td>\n",
       "      <td>prior</td>\n",
       "      <td>25</td>\n",
       "      <td>3</td>\n",
       "      <td>10</td>\n",
       "      <td>5.0</td>\n",
       "      <td>Gourmet Burger Seasoning</td>\n",
       "      <td>104</td>\n",
       "      <td>13</td>\n",
       "    </tr>\n",
       "    <tr>\n",
       "      <th>32434486</th>\n",
       "      <td>3267201</td>\n",
       "      <td>33097</td>\n",
       "      <td>2</td>\n",
       "      <td>0</td>\n",
       "      <td>183867</td>\n",
       "      <td>prior</td>\n",
       "      <td>19</td>\n",
       "      <td>3</td>\n",
       "      <td>18</td>\n",
       "      <td>3.0</td>\n",
       "      <td>Piquillo &amp; Jalapeno Bruschetta</td>\n",
       "      <td>81</td>\n",
       "      <td>15</td>\n",
       "    </tr>\n",
       "    <tr>\n",
       "      <th>32434487</th>\n",
       "      <td>3393151</td>\n",
       "      <td>38977</td>\n",
       "      <td>32</td>\n",
       "      <td>0</td>\n",
       "      <td>79056</td>\n",
       "      <td>prior</td>\n",
       "      <td>1</td>\n",
       "      <td>4</td>\n",
       "      <td>13</td>\n",
       "      <td>NaN</td>\n",
       "      <td>Original Jerky</td>\n",
       "      <td>100</td>\n",
       "      <td>21</td>\n",
       "    </tr>\n",
       "    <tr>\n",
       "      <th>32434488</th>\n",
       "      <td>3400803</td>\n",
       "      <td>23624</td>\n",
       "      <td>7</td>\n",
       "      <td>0</td>\n",
       "      <td>152189</td>\n",
       "      <td>prior</td>\n",
       "      <td>4</td>\n",
       "      <td>3</td>\n",
       "      <td>14</td>\n",
       "      <td>2.0</td>\n",
       "      <td>Flatbread Pizza All Natural</td>\n",
       "      <td>79</td>\n",
       "      <td>1</td>\n",
       "    </tr>\n",
       "  </tbody>\n",
       "</table>\n",
       "<p>32434489 rows × 13 columns</p>\n",
       "</div>"
      ],
      "text/plain": [
       "          order_id  product_id  add_to_cart_order  reordered  user_id  \\\n",
       "0                2       33120                  1          1   202279   \n",
       "1               26       33120                  5          0   153404   \n",
       "2              120       33120                 13          0    23750   \n",
       "3              327       33120                  5          1    58707   \n",
       "4              390       33120                 28          1   166654   \n",
       "...            ...         ...                ...        ...      ...   \n",
       "32434484   3265099       43492                  3          0   111311   \n",
       "32434485   3361945       43492                 19          0   142932   \n",
       "32434486   3267201       33097                  2          0   183867   \n",
       "32434487   3393151       38977                 32          0    79056   \n",
       "32434488   3400803       23624                  7          0   152189   \n",
       "\n",
       "         eval_set  order_number  order_dow  order_hour_of_day  \\\n",
       "0           prior             3          5                  9   \n",
       "1           prior             2          0                 16   \n",
       "2           prior            11          6                  8   \n",
       "3           prior            21          6                  9   \n",
       "4           prior            48          0                 12   \n",
       "...           ...           ...        ...                ...   \n",
       "32434484    prior             2          3                 10   \n",
       "32434485    prior            25          3                 10   \n",
       "32434486    prior            19          3                 18   \n",
       "32434487    prior             1          4                 13   \n",
       "32434488    prior             4          3                 14   \n",
       "\n",
       "          days_since_prior_order                    product_name  aisle_id  \\\n",
       "0                            8.0              Organic Egg Whites        86   \n",
       "1                            7.0              Organic Egg Whites        86   \n",
       "2                           10.0              Organic Egg Whites        86   \n",
       "3                            8.0              Organic Egg Whites        86   \n",
       "4                            9.0              Organic Egg Whites        86   \n",
       "...                          ...                             ...       ...   \n",
       "32434484                     5.0        Gourmet Burger Seasoning       104   \n",
       "32434485                     5.0        Gourmet Burger Seasoning       104   \n",
       "32434486                     3.0  Piquillo & Jalapeno Bruschetta        81   \n",
       "32434487                     NaN                  Original Jerky       100   \n",
       "32434488                     2.0     Flatbread Pizza All Natural        79   \n",
       "\n",
       "          department_id  \n",
       "0                    16  \n",
       "1                    16  \n",
       "2                    16  \n",
       "3                    16  \n",
       "4                    16  \n",
       "...                 ...  \n",
       "32434484             13  \n",
       "32434485             13  \n",
       "32434486             15  \n",
       "32434487             21  \n",
       "32434488              1  \n",
       "\n",
       "[32434489 rows x 13 columns]"
      ]
     },
     "execution_count": 9,
     "metadata": {},
     "output_type": "execute_result"
    }
   ],
   "source": [
    "# INNER JOIN 3 DataFrame với nhau.\n",
    "instacart_transaction = order_product.merge(orders, on = 'order_id').merge(products, on = 'product_id')\n",
    "\n",
    "# Xuất file dữ liệu vừa INNER J\"instacart_transaction.csv\".\n",
    "instacart_transaction.to_csv(r'C:\\Users\\Oanh Le\\Google Drive\\My Drive\\instacart-market-basket-analysis\\instacart_transaction.csv', index=False, header=True)\n",
    "\n",
    "# In file vừa tạo. \n",
    "instacart_transaction"
   ]
  },
  {
   "cell_type": "code",
   "execution_count": 19,
   "metadata": {
    "_cell_guid": "4be523e1-b6e3-410d-8bb3-d0f407dc4226",
    "_uuid": "76ec403a-dd62-4638-b079-1cc0f76b392a",
    "execution": {
     "iopub.execute_input": "2021-11-23T08:02:59.058196Z",
     "iopub.status.busy": "2021-11-23T08:02:59.057863Z",
     "iopub.status.idle": "2021-11-23T08:03:00.350823Z",
     "shell.execute_reply": "2021-11-23T08:03:00.349876Z",
     "shell.execute_reply.started": "2021-11-23T08:02:59.058151Z"
    },
    "jupyter": {
     "outputs_hidden": false
    },
    "scrolled": true
   },
   "outputs": [
    {
     "data": {
      "text/html": [
       "<div>\n",
       "<style scoped>\n",
       "    .dataframe tbody tr th:only-of-type {\n",
       "        vertical-align: middle;\n",
       "    }\n",
       "\n",
       "    .dataframe tbody tr th {\n",
       "        vertical-align: top;\n",
       "    }\n",
       "\n",
       "    .dataframe thead th {\n",
       "        text-align: right;\n",
       "    }\n",
       "</style>\n",
       "<table border=\"1\" class=\"dataframe\">\n",
       "  <thead>\n",
       "    <tr style=\"text-align: right;\">\n",
       "      <th></th>\n",
       "      <th>order_id</th>\n",
       "      <th>product_id</th>\n",
       "      <th>user_id</th>\n",
       "      <th>product_name</th>\n",
       "    </tr>\n",
       "  </thead>\n",
       "  <tbody>\n",
       "    <tr>\n",
       "      <th>0</th>\n",
       "      <td>2</td>\n",
       "      <td>33120</td>\n",
       "      <td>202279</td>\n",
       "      <td>Organic Egg Whites</td>\n",
       "    </tr>\n",
       "    <tr>\n",
       "      <th>1</th>\n",
       "      <td>26</td>\n",
       "      <td>33120</td>\n",
       "      <td>153404</td>\n",
       "      <td>Organic Egg Whites</td>\n",
       "    </tr>\n",
       "    <tr>\n",
       "      <th>2</th>\n",
       "      <td>120</td>\n",
       "      <td>33120</td>\n",
       "      <td>23750</td>\n",
       "      <td>Organic Egg Whites</td>\n",
       "    </tr>\n",
       "    <tr>\n",
       "      <th>3</th>\n",
       "      <td>327</td>\n",
       "      <td>33120</td>\n",
       "      <td>58707</td>\n",
       "      <td>Organic Egg Whites</td>\n",
       "    </tr>\n",
       "    <tr>\n",
       "      <th>4</th>\n",
       "      <td>390</td>\n",
       "      <td>33120</td>\n",
       "      <td>166654</td>\n",
       "      <td>Organic Egg Whites</td>\n",
       "    </tr>\n",
       "    <tr>\n",
       "      <th>...</th>\n",
       "      <td>...</td>\n",
       "      <td>...</td>\n",
       "      <td>...</td>\n",
       "      <td>...</td>\n",
       "    </tr>\n",
       "    <tr>\n",
       "      <th>32434484</th>\n",
       "      <td>3265099</td>\n",
       "      <td>43492</td>\n",
       "      <td>111311</td>\n",
       "      <td>Gourmet Burger Seasoning</td>\n",
       "    </tr>\n",
       "    <tr>\n",
       "      <th>32434485</th>\n",
       "      <td>3361945</td>\n",
       "      <td>43492</td>\n",
       "      <td>142932</td>\n",
       "      <td>Gourmet Burger Seasoning</td>\n",
       "    </tr>\n",
       "    <tr>\n",
       "      <th>32434486</th>\n",
       "      <td>3267201</td>\n",
       "      <td>33097</td>\n",
       "      <td>183867</td>\n",
       "      <td>Piquillo &amp; Jalapeno Bruschetta</td>\n",
       "    </tr>\n",
       "    <tr>\n",
       "      <th>32434487</th>\n",
       "      <td>3393151</td>\n",
       "      <td>38977</td>\n",
       "      <td>79056</td>\n",
       "      <td>Original Jerky</td>\n",
       "    </tr>\n",
       "    <tr>\n",
       "      <th>32434488</th>\n",
       "      <td>3400803</td>\n",
       "      <td>23624</td>\n",
       "      <td>152189</td>\n",
       "      <td>Flatbread Pizza All Natural</td>\n",
       "    </tr>\n",
       "  </tbody>\n",
       "</table>\n",
       "<p>32434489 rows × 4 columns</p>\n",
       "</div>"
      ],
      "text/plain": [
       "          order_id  product_id  user_id                    product_name\n",
       "0                2       33120   202279              Organic Egg Whites\n",
       "1               26       33120   153404              Organic Egg Whites\n",
       "2              120       33120    23750              Organic Egg Whites\n",
       "3              327       33120    58707              Organic Egg Whites\n",
       "4              390       33120   166654              Organic Egg Whites\n",
       "...            ...         ...      ...                             ...\n",
       "32434484   3265099       43492   111311        Gourmet Burger Seasoning\n",
       "32434485   3361945       43492   142932        Gourmet Burger Seasoning\n",
       "32434486   3267201       33097   183867  Piquillo & Jalapeno Bruschetta\n",
       "32434487   3393151       38977    79056                  Original Jerky\n",
       "32434488   3400803       23624   152189     Flatbread Pizza All Natural\n",
       "\n",
       "[32434489 rows x 4 columns]"
      ]
     },
     "execution_count": 19,
     "metadata": {},
     "output_type": "execute_result"
    }
   ],
   "source": [
    "# Tải file dữ liệu vừa mới xuất và chỉ lấy những cột cần thiết để chuẩn bị phân tích. \n",
    "# Chỉ lấy những cột sau.\n",
    "col_insta_trans = ['order_id', 'product_id', 'user_id', 'product_name']\n",
    "\n",
    "# Đọc file dữ liệu vừa mới xuất. \n",
    "instacart_transaction = pd.read_csv(r'C:\\Users\\Oanh Le\\Google Drive\\My Drive\\instacart-market-basket-analysis\\instacart_transaction.csv', index_col=False, usecols=col_insta_trans)\n",
    "\n",
    "# In DataFrame hoàn chỉnh. \n",
    "instacart_transaction"
   ]
  },
  {
   "cell_type": "code",
   "execution_count": 20,
   "metadata": {
    "_cell_guid": "36a7a53e-57da-432a-843b-f55ad3f09bf7",
    "_uuid": "36e8ac8a-6f39-418f-8241-c282efaf1ab6",
    "execution": {
     "iopub.execute_input": "2021-11-23T08:03:00.3522Z",
     "iopub.status.busy": "2021-11-23T08:03:00.351997Z",
     "iopub.status.idle": "2021-11-23T08:03:00.52456Z",
     "shell.execute_reply": "2021-11-23T08:03:00.523585Z",
     "shell.execute_reply.started": "2021-11-23T08:03:00.352175Z"
    },
    "jupyter": {
     "outputs_hidden": false
    },
    "scrolled": true
   },
   "outputs": [
    {
     "name": "stdout",
     "output_type": "stream",
     "text": [
      "<class 'pandas.core.frame.DataFrame'>\n",
      "RangeIndex: 32434489 entries, 0 to 32434488\n",
      "Data columns (total 4 columns):\n",
      " #   Column        Dtype \n",
      "---  ------        ----- \n",
      " 0   order_id      int64 \n",
      " 1   product_id    int64 \n",
      " 2   user_id       int64 \n",
      " 3   product_name  object\n",
      "dtypes: int64(3), object(1)\n",
      "memory usage: 989.8+ MB\n"
     ]
    }
   ],
   "source": [
    "# Thông tin sơ lược về DataFrame.\n",
    "instacart_transaction.info()"
   ]
  },
  {
   "cell_type": "code",
   "execution_count": 21,
   "metadata": {
    "_cell_guid": "f95edc56-e0fd-45e0-bfb7-155e97a50567",
    "_uuid": "3a8cba75-9a1d-46d5-a5ee-81d60daa452e",
    "execution": {
     "iopub.execute_input": "2021-11-23T08:03:00.526042Z",
     "iopub.status.busy": "2021-11-23T08:03:00.525822Z",
     "iopub.status.idle": "2021-11-23T08:03:00.689258Z",
     "shell.execute_reply": "2021-11-23T08:03:00.688339Z",
     "shell.execute_reply.started": "2021-11-23T08:03:00.526016Z"
    },
    "jupyter": {
     "outputs_hidden": false
    },
    "scrolled": true
   },
   "outputs": [
    {
     "data": {
      "text/plain": [
       "order_id        0\n",
       "product_id      0\n",
       "user_id         0\n",
       "product_name    0\n",
       "dtype: int64"
      ]
     },
     "execution_count": 21,
     "metadata": {},
     "output_type": "execute_result"
    }
   ],
   "source": [
    "# Kiểm tra có trị null hay không \n",
    "instacart_transaction.isna().sum()"
   ]
  },
  {
   "cell_type": "markdown",
   "metadata": {
    "_cell_guid": "ea1f7e43-61a5-4030-8a70-bbade8db5d04",
    "_uuid": "88b6aad1-59f7-4486-b080-eeb4eb239a0c"
   },
   "source": [
    "### 2. Initial exploratory analysis"
   ]
  },
  {
   "cell_type": "code",
   "execution_count": 22,
   "metadata": {
    "_cell_guid": "d448c8a0-fc09-40ff-9e5a-c2fa920eaf12",
    "_uuid": "b90b7e8a-4cfd-4e05-a9ea-e8db5ece6ab5",
    "execution": {
     "iopub.execute_input": "2021-11-23T08:03:00.69072Z",
     "iopub.status.busy": "2021-11-23T08:03:00.690502Z",
     "iopub.status.idle": "2021-11-23T08:03:00.777203Z",
     "shell.execute_reply": "2021-11-23T08:03:00.776137Z",
     "shell.execute_reply.started": "2021-11-23T08:03:00.690695Z"
    },
    "jupyter": {
     "outputs_hidden": false
    },
    "scrolled": true
   },
   "outputs": [
    {
     "data": {
      "text/html": [
       "<div>\n",
       "<style scoped>\n",
       "    .dataframe tbody tr th:only-of-type {\n",
       "        vertical-align: middle;\n",
       "    }\n",
       "\n",
       "    .dataframe tbody tr th {\n",
       "        vertical-align: top;\n",
       "    }\n",
       "\n",
       "    .dataframe thead th {\n",
       "        text-align: right;\n",
       "    }\n",
       "</style>\n",
       "<table border=\"1\" class=\"dataframe\">\n",
       "  <thead>\n",
       "    <tr style=\"text-align: right;\">\n",
       "      <th></th>\n",
       "      <th>user_id</th>\n",
       "      <th>count</th>\n",
       "    </tr>\n",
       "  </thead>\n",
       "  <tbody>\n",
       "    <tr>\n",
       "      <th>0</th>\n",
       "      <td>1</td>\n",
       "      <td>59</td>\n",
       "    </tr>\n",
       "    <tr>\n",
       "      <th>1</th>\n",
       "      <td>2</td>\n",
       "      <td>195</td>\n",
       "    </tr>\n",
       "    <tr>\n",
       "      <th>2</th>\n",
       "      <td>3</td>\n",
       "      <td>88</td>\n",
       "    </tr>\n",
       "    <tr>\n",
       "      <th>3</th>\n",
       "      <td>4</td>\n",
       "      <td>18</td>\n",
       "    </tr>\n",
       "    <tr>\n",
       "      <th>4</th>\n",
       "      <td>5</td>\n",
       "      <td>37</td>\n",
       "    </tr>\n",
       "    <tr>\n",
       "      <th>...</th>\n",
       "      <td>...</td>\n",
       "      <td>...</td>\n",
       "    </tr>\n",
       "    <tr>\n",
       "      <th>206204</th>\n",
       "      <td>206205</td>\n",
       "      <td>32</td>\n",
       "    </tr>\n",
       "    <tr>\n",
       "      <th>206205</th>\n",
       "      <td>206206</td>\n",
       "      <td>285</td>\n",
       "    </tr>\n",
       "    <tr>\n",
       "      <th>206206</th>\n",
       "      <td>206207</td>\n",
       "      <td>223</td>\n",
       "    </tr>\n",
       "    <tr>\n",
       "      <th>206207</th>\n",
       "      <td>206208</td>\n",
       "      <td>677</td>\n",
       "    </tr>\n",
       "    <tr>\n",
       "      <th>206208</th>\n",
       "      <td>206209</td>\n",
       "      <td>129</td>\n",
       "    </tr>\n",
       "  </tbody>\n",
       "</table>\n",
       "<p>206209 rows × 2 columns</p>\n",
       "</div>"
      ],
      "text/plain": [
       "        user_id  count\n",
       "0             1     59\n",
       "1             2    195\n",
       "2             3     88\n",
       "3             4     18\n",
       "4             5     37\n",
       "...         ...    ...\n",
       "206204   206205     32\n",
       "206205   206206    285\n",
       "206206   206207    223\n",
       "206207   206208    677\n",
       "206208   206209    129\n",
       "\n",
       "[206209 rows x 2 columns]"
      ]
     },
     "execution_count": 22,
     "metadata": {},
     "output_type": "execute_result"
    }
   ],
   "source": [
    "# Số lượng đơn hàng mà mỗi người dùng trong hơn 200.000 người đã đặt qua app và website Instacart \n",
    "order_count = instacart_transaction.groupby('user_id')['order_id'].count().reset_index(name='count')\n",
    "order_count"
   ]
  },
  {
   "cell_type": "code",
   "execution_count": 23,
   "metadata": {
    "_cell_guid": "f3cf4108-0c77-46f2-a263-d75a275540df",
    "_uuid": "ebf9674f-6a15-4ac8-b597-74204c2e8b4a",
    "execution": {
     "iopub.execute_input": "2021-11-23T08:03:00.78023Z",
     "iopub.status.busy": "2021-11-23T08:03:00.779995Z",
     "iopub.status.idle": "2021-11-23T08:03:00.829049Z",
     "shell.execute_reply": "2021-11-23T08:03:00.828162Z",
     "shell.execute_reply.started": "2021-11-23T08:03:00.780203Z"
    },
    "jupyter": {
     "outputs_hidden": false
    },
    "scrolled": true
   },
   "outputs": [
    {
     "data": {
      "text/html": [
       "<div>\n",
       "<style scoped>\n",
       "    .dataframe tbody tr th:only-of-type {\n",
       "        vertical-align: middle;\n",
       "    }\n",
       "\n",
       "    .dataframe tbody tr th {\n",
       "        vertical-align: top;\n",
       "    }\n",
       "\n",
       "    .dataframe thead th {\n",
       "        text-align: right;\n",
       "    }\n",
       "</style>\n",
       "<table border=\"1\" class=\"dataframe\">\n",
       "  <thead>\n",
       "    <tr style=\"text-align: right;\">\n",
       "      <th></th>\n",
       "      <th>product_id</th>\n",
       "      <th>count</th>\n",
       "    </tr>\n",
       "  </thead>\n",
       "  <tbody>\n",
       "    <tr>\n",
       "      <th>0</th>\n",
       "      <td>1</td>\n",
       "      <td>1852</td>\n",
       "    </tr>\n",
       "    <tr>\n",
       "      <th>1</th>\n",
       "      <td>2</td>\n",
       "      <td>90</td>\n",
       "    </tr>\n",
       "    <tr>\n",
       "      <th>2</th>\n",
       "      <td>3</td>\n",
       "      <td>277</td>\n",
       "    </tr>\n",
       "    <tr>\n",
       "      <th>3</th>\n",
       "      <td>4</td>\n",
       "      <td>329</td>\n",
       "    </tr>\n",
       "    <tr>\n",
       "      <th>4</th>\n",
       "      <td>5</td>\n",
       "      <td>15</td>\n",
       "    </tr>\n",
       "    <tr>\n",
       "      <th>...</th>\n",
       "      <td>...</td>\n",
       "      <td>...</td>\n",
       "    </tr>\n",
       "    <tr>\n",
       "      <th>49672</th>\n",
       "      <td>49684</td>\n",
       "      <td>9</td>\n",
       "    </tr>\n",
       "    <tr>\n",
       "      <th>49673</th>\n",
       "      <td>49685</td>\n",
       "      <td>49</td>\n",
       "    </tr>\n",
       "    <tr>\n",
       "      <th>49674</th>\n",
       "      <td>49686</td>\n",
       "      <td>120</td>\n",
       "    </tr>\n",
       "    <tr>\n",
       "      <th>49675</th>\n",
       "      <td>49687</td>\n",
       "      <td>13</td>\n",
       "    </tr>\n",
       "    <tr>\n",
       "      <th>49676</th>\n",
       "      <td>49688</td>\n",
       "      <td>89</td>\n",
       "    </tr>\n",
       "  </tbody>\n",
       "</table>\n",
       "<p>49677 rows × 2 columns</p>\n",
       "</div>"
      ],
      "text/plain": [
       "       product_id  count\n",
       "0               1   1852\n",
       "1               2     90\n",
       "2               3    277\n",
       "3               4    329\n",
       "4               5     15\n",
       "...           ...    ...\n",
       "49672       49684      9\n",
       "49673       49685     49\n",
       "49674       49686    120\n",
       "49675       49687     13\n",
       "49676       49688     89\n",
       "\n",
       "[49677 rows x 2 columns]"
      ]
     },
     "execution_count": 23,
     "metadata": {},
     "output_type": "execute_result"
    }
   ],
   "source": [
    "# Mỗi sản phẩm có bao nhiêu đơn đặt hàng\n",
    "product_count = instacart_transaction.groupby('product_id', as_index=False)['order_id'].count()\n",
    "product_count.rename(columns = {'order_id':'count'},inplace=True)\n",
    "product_count"
   ]
  },
  {
   "cell_type": "code",
   "execution_count": 24,
   "metadata": {
    "_cell_guid": "0d65e620-2a68-45db-a6be-5f276aada9e4",
    "_uuid": "ea6930df-0732-4628-b54d-63b88e27c9cf",
    "execution": {
     "iopub.execute_input": "2021-11-23T08:03:00.830701Z",
     "iopub.status.busy": "2021-11-23T08:03:00.830392Z",
     "iopub.status.idle": "2021-11-23T08:03:01.127548Z",
     "shell.execute_reply": "2021-11-23T08:03:01.12575Z",
     "shell.execute_reply.started": "2021-11-23T08:03:00.830657Z"
    },
    "jupyter": {
     "outputs_hidden": false
    },
    "scrolled": true
   },
   "outputs": [
    {
     "data": {
      "text/html": [
       "<div>\n",
       "<style scoped>\n",
       "    .dataframe tbody tr th:only-of-type {\n",
       "        vertical-align: middle;\n",
       "    }\n",
       "\n",
       "    .dataframe tbody tr th {\n",
       "        vertical-align: top;\n",
       "    }\n",
       "\n",
       "    .dataframe thead th {\n",
       "        text-align: right;\n",
       "    }\n",
       "</style>\n",
       "<table border=\"1\" class=\"dataframe\">\n",
       "  <thead>\n",
       "    <tr style=\"text-align: right;\">\n",
       "      <th></th>\n",
       "      <th>product_name</th>\n",
       "      <th>count</th>\n",
       "    </tr>\n",
       "  </thead>\n",
       "  <tbody>\n",
       "    <tr>\n",
       "      <th>3676</th>\n",
       "      <td>Banana</td>\n",
       "      <td>472565</td>\n",
       "    </tr>\n",
       "    <tr>\n",
       "      <th>3471</th>\n",
       "      <td>Bag of Organic Bananas</td>\n",
       "      <td>379450</td>\n",
       "    </tr>\n",
       "    <tr>\n",
       "      <th>31920</th>\n",
       "      <td>Organic Strawberries</td>\n",
       "      <td>264683</td>\n",
       "    </tr>\n",
       "    <tr>\n",
       "      <th>28840</th>\n",
       "      <td>Organic Baby Spinach</td>\n",
       "      <td>241921</td>\n",
       "    </tr>\n",
       "    <tr>\n",
       "      <th>30297</th>\n",
       "      <td>Organic Hass Avocado</td>\n",
       "      <td>213584</td>\n",
       "    </tr>\n",
       "    <tr>\n",
       "      <th>28804</th>\n",
       "      <td>Organic Avocado</td>\n",
       "      <td>176815</td>\n",
       "    </tr>\n",
       "    <tr>\n",
       "      <th>22413</th>\n",
       "      <td>Large Lemon</td>\n",
       "      <td>152657</td>\n",
       "    </tr>\n",
       "    <tr>\n",
       "      <th>42904</th>\n",
       "      <td>Strawberries</td>\n",
       "      <td>142951</td>\n",
       "    </tr>\n",
       "    <tr>\n",
       "      <th>23420</th>\n",
       "      <td>Limes</td>\n",
       "      <td>140627</td>\n",
       "    </tr>\n",
       "    <tr>\n",
       "      <th>32478</th>\n",
       "      <td>Organic Whole Milk</td>\n",
       "      <td>137905</td>\n",
       "    </tr>\n",
       "  </tbody>\n",
       "</table>\n",
       "</div>"
      ],
      "text/plain": [
       "                 product_name   count\n",
       "3676                   Banana  472565\n",
       "3471   Bag of Organic Bananas  379450\n",
       "31920    Organic Strawberries  264683\n",
       "28840    Organic Baby Spinach  241921\n",
       "30297    Organic Hass Avocado  213584\n",
       "28804         Organic Avocado  176815\n",
       "22413             Large Lemon  152657\n",
       "42904            Strawberries  142951\n",
       "23420                   Limes  140627\n",
       "32478      Organic Whole Milk  137905"
      ]
     },
     "execution_count": 24,
     "metadata": {},
     "output_type": "execute_result"
    }
   ],
   "source": [
    "# # Top 10 sản phẩm (product_name) được mua nhiều nhất. \n",
    "top10_count = instacart_transaction[['order_id','product_name']].groupby('product_name',as_index=False)['order_id'].count(\n",
    "    ).sort_values(by='order_id',ascending=False)\n",
    "top10_count.rename(columns = {'order_id':'count'},inplace=True)\n",
    "top10_count.head(10)"
   ]
  },
  {
   "cell_type": "code",
   "execution_count": 25,
   "metadata": {
    "_cell_guid": "38c31886-71a5-48d0-b330-a5b6c3b42c2a",
    "_uuid": "fcc6a2d9-e8c6-4726-bb27-77da480f55a9",
    "execution": {
     "iopub.execute_input": "2021-11-23T08:03:01.129033Z",
     "iopub.status.busy": "2021-11-23T08:03:01.128764Z",
     "iopub.status.idle": "2021-11-23T08:03:01.514309Z",
     "shell.execute_reply": "2021-11-23T08:03:01.513625Z",
     "shell.execute_reply.started": "2021-11-23T08:03:01.129005Z"
    },
    "jupyter": {
     "outputs_hidden": false
    },
    "scrolled": true
   },
   "outputs": [
    {
     "data": {
      "image/png": "[encoded data removed]",
      "text/plain": [
       "<Figure size 432x288 with 1 Axes>"
      ]
     },
     "metadata": {
      "needs_background": "light"
     },
     "output_type": "display_data"
    }
   ],
   "source": [
    "y_axis = top10_count['product_name'].head(10)\n",
    "x_axis = top10_count['count'].head(10)\n",
    "\n",
    "plt.barh(y_axis,x_axis, edgecolor='Silver')\n",
    "\n",
    "plt.title('Top 10 sản phẩm được mua nhiều nhất', color='steelblue',\n",
    "fontfamily='times new roman',fontsize=18)\n",
    "plt.ylabel('Sản phẩm')\n",
    "plt.xlabel('Số lượng')\n",
    "\n",
    "plt.show()"
   ]
  },
  {
   "cell_type": "code",
   "execution_count": 26,
   "metadata": {
    "execution": {
     "iopub.execute_input": "2021-11-23T08:03:01.516062Z",
     "iopub.status.busy": "2021-11-23T08:03:01.515292Z",
     "iopub.status.idle": "2021-11-23T08:03:01.766038Z",
     "shell.execute_reply": "2021-11-23T08:03:01.76509Z",
     "shell.execute_reply.started": "2021-11-23T08:03:01.51603Z"
    },
    "scrolled": true
   },
   "outputs": [
    {
     "data": {
      "text/plain": [
       "product_name    10.088883\n",
       "dtype: float64"
      ]
     },
     "execution_count": 26,
     "metadata": {},
     "output_type": "execute_result"
    }
   ],
   "source": [
    "# Số lượng trung bình sản phẩm được bán ra.\n",
    "purchase_count = instacart_transaction.groupby('order_id')['product_name'].count()\n",
    "df = pd.DataFrame(purchase_count)\n",
    "df.mean(axis=0)"
   ]
  },
  {
   "cell_type": "markdown",
   "metadata": {},
   "source": [
    "### 3. Chuẩn bị dữ liệu để phân tích giỏ hàng"
   ]
  },
  {
   "cell_type": "code",
   "execution_count": null,
   "metadata": {
    "_cell_guid": "88852d09-5c34-4646-bd6c-d9462caf349e",
    "_uuid": "5fff18f6-ad8b-43a6-88c7-399828612e73",
    "execution": {
     "iopub.execute_input": "2021-11-23T08:03:01.767479Z",
     "iopub.status.busy": "2021-11-23T08:03:01.767217Z",
     "iopub.status.idle": "2021-11-23T08:06:43.976033Z",
     "shell.execute_reply": "2021-11-23T08:06:43.973624Z",
     "shell.execute_reply.started": "2021-11-23T08:03:01.767452Z"
    },
    "scrolled": true
   },
   "outputs": [],
   "source": [
    "# Bước đầu chuyển từ DataFrame sang transaction data để phân tích giỏ hàng \n",
    "# Đếm unique order IDs.\n",
    "order_id = instacart_transaction['order_id'].unique()\n",
    "\n",
    "# Tạo danh sách để chuyển DataFrame thành transaction data \n",
    "transaction = [list(instacart_transaction[instacart_transaction['order_id'] == u].product_name) for u in order_id]\n",
    "\n",
    "\"\"\"\n",
    "Danh sách dưới đây là gồm những đơn hàng (order_id) unique\n",
    "Mỗi danh sách được ví như một giỏ hàng của khách hàng đã mua \n",
    "Và mỗi danh sách được phân cách bằng dấu []\n",
    "\"\"\"\n",
    "# In danh sách vừa tạo. \n",
    "transaction"
   ]
  },
  {
   "cell_type": "code",
   "execution_count": null,
   "metadata": {
    "execution": {
     "iopub.execute_input": "2021-11-23T08:06:43.978342Z",
     "iopub.status.busy": "2021-11-23T08:06:43.977832Z",
     "iopub.status.idle": "2021-11-23T08:06:43.984646Z",
     "shell.execute_reply": "2021-11-23T08:06:43.98385Z",
     "shell.execute_reply.started": "2021-11-23T08:06:43.978288Z"
    },
    "scrolled": true
   },
   "outputs": [],
   "source": [
    "\"\"\"\n",
    "Dưới đây là danh sách (giỏ hàng) gồm những sản phẩm (product_name) \n",
    "mà khách hàng hay mua cùng với nhau. \n",
    "\"\"\"\n",
    "transaction[0] "
   ]
  },
  {
   "cell_type": "code",
   "execution_count": null,
   "metadata": {
    "execution": {
     "iopub.execute_input": "2021-11-23T08:06:43.986522Z",
     "iopub.status.busy": "2021-11-23T08:06:43.986253Z",
     "iopub.status.idle": "2021-11-23T08:06:47.168448Z",
     "shell.execute_reply": "2021-11-23T08:06:47.167519Z",
     "shell.execute_reply.started": "2021-11-23T08:06:43.986494Z"
    },
    "scrolled": true
   },
   "outputs": [],
   "source": [
    "\"\"\"\n",
    "Tiếp tục danh sách vừa tạo sang dạng onehot encoding để tiến hành phân tích giỏ hàng \n",
    "Mỗi cột sẽ là một trong 49,653 sản phẩm (product_name)\n",
    "Với giá trị False ~ (0): không xuất hiện trong giỏ hàng \n",
    "            True  ~ (1): có xuất hiện trong giỏ hàng \n",
    "            * Giỏ hàng ở đây chỉ 1 giỏ hàng của 1 khách hàng (unique).\n",
    "\"\"\"\n",
    "# Instantiate transaction encoder.\n",
    "encoder = TransactionEncoder()\n",
    "# One-hot encode instacart_transaction.\n",
    "onehot = encoder.fit(transaction).transform(transaction)\n",
    "# Sử dụng product_name là cột headers.\n",
    "onehot = pd.DataFrame(onehot, columns = encoder.columns_)\n",
    "# Print onehot header.\n",
    "onehot"
   ]
  },
  {
   "cell_type": "code",
   "execution_count": null,
   "metadata": {
    "execution": {
     "iopub.execute_input": "2021-11-23T08:06:47.169722Z",
     "iopub.status.busy": "2021-11-23T08:06:47.169513Z",
     "iopub.status.idle": "2021-11-23T08:06:52.255333Z",
     "shell.execute_reply": "2021-11-23T08:06:52.254704Z",
     "shell.execute_reply.started": "2021-11-23T08:06:47.169696Z"
    },
    "scrolled": true
   },
   "outputs": [],
   "source": [
    "onehot.mean()"
   ]
  },
  {
   "cell_type": "code",
   "execution_count": null,
   "metadata": {
    "execution": {
     "iopub.execute_input": "2021-11-23T08:06:52.256867Z",
     "iopub.status.busy": "2021-11-23T08:06:52.2565Z",
     "iopub.status.idle": "2021-11-23T08:06:52.286927Z",
     "shell.execute_reply": "2021-11-23T08:06:52.286047Z",
     "shell.execute_reply.started": "2021-11-23T08:06:52.256824Z"
    },
    "scrolled": true
   },
   "outputs": [],
   "source": [
    "# Tính toán giá trị support. \n",
    "support_bananas_bags = np.logical_and(onehot['Banana'], onehot['Bag of Organic Bananas']).mean()\n",
    "support_bananas = onehot['Bananas'].mean()\n",
    "support_bags = onehot['Bag of Organic Bananas'].mean()\n",
    "# Tính toán giá trị confidence and lift.\n",
    "confidence = support_bananas_bags / support_bananas\n",
    "lift = support_bananas_bags / (support_bananas * support_bags)\n",
    "# In kết quả.\n",
    "print(' Giá trị support cho sản phẩm \"Bananas\" là: %f\\n' %support_bananas, 'Giá trị support của sản phẩm \"Bag of Organic Bananas\" là: %f\\n' %support_bags, 'Giá trị confidence là: %f\\n' %confidence, 'Giá trị lift là: %f\\n' %lift)"
   ]
  },
  {
   "cell_type": "markdown",
   "metadata": {},
   "source": [
    "Ý nghĩa của các chỉ số này: "
   ]
  },
  {
   "cell_type": "code",
   "execution_count": null,
   "metadata": {
    "execution": {
     "iopub.execute_input": "2021-11-23T08:06:52.28873Z",
     "iopub.status.busy": "2021-11-23T08:06:52.288045Z",
     "iopub.status.idle": "2021-11-23T08:06:52.315311Z",
     "shell.execute_reply": "2021-11-23T08:06:52.314429Z",
     "shell.execute_reply.started": "2021-11-23T08:06:52.288687Z"
    },
    "scrolled": true
   },
   "outputs": [],
   "source": [
    "# Tính toán chỉ số leverage. \n",
    "# Tính toán trước chỉ số support của Bananas và Limes.\n",
    "support_bananas_limes = np.logical_and(onehot['Bananas'], onehot['Limes']).mean()\n",
    "# Tính toán chỉ số của Bananas. \n",
    "support_bananas = onehot['Bananas'].mean()\n",
    "# Tính toán chỉ số support của Limes. \n",
    "support_limes = onehot['Limes'].mean()\n",
    "# Tính toán chỉ số leverage\n",
    "leverage = support_bananas_limes - support_limes * support_bananas\n",
    "print('Giá trị leverage là: %f' %leverage)"
   ]
  },
  {
   "cell_type": "code",
   "execution_count": null,
   "metadata": {
    "execution": {
     "iopub.execute_input": "2021-11-23T08:06:52.3174Z",
     "iopub.status.busy": "2021-11-23T08:06:52.316901Z",
     "iopub.status.idle": "2021-11-23T08:06:52.321917Z",
     "shell.execute_reply": "2021-11-23T08:06:52.320856Z",
     "shell.execute_reply.started": "2021-11-23T08:06:52.317351Z"
    },
    "scrolled": true
   },
   "outputs": [],
   "source": [
    "# Tính toán chỉ số conviction. \n",
    "# Tính toán chỉ số support cho sản phẩm Bananas, Bags of Organic Bananas, và Limes. \n",
    "#support_bananas_limes = np.logical_and(onehot['Bananas'], onehot['Limes']).mean()\n",
    "# Tính toán chỉ số support cho !Bags of Organic Bananas.\n",
    "#support_not_bags = 1.0 - onehot['Bag of Organic Bananas'].mean()\n",
    "# Tính toán chỉ số support của Bananas và !Bags of Organic Bananas\n",
    "#support_bana_not_bag = support_bananas - support"
   ]
  },
  {
   "cell_type": "code",
   "execution_count": null,
   "metadata": {
    "execution": {
     "iopub.execute_input": "2021-11-23T08:06:52.324006Z",
     "iopub.status.busy": "2021-11-23T08:06:52.32352Z"
    }
   },
   "outputs": [],
   "source": [
    "# Tính toán frequent itemsets\n",
    "frequent_itemsets = apriori(onehot, use_colnames = True, min_support = 0.01)\n",
    "# In tất cả số itemsets\n",
    "print(len(frequent_itemsets))"
   ]
  },
  {
   "cell_type": "code",
   "execution_count": null,
   "metadata": {},
   "outputs": [],
   "source": [
    "frequent_itemsets"
   ]
  },
  {
   "cell_type": "markdown",
   "metadata": {},
   "source": [
    "# Pruning - loại bỏ những weak asscociation rules "
   ]
  },
  {
   "cell_type": "code",
   "execution_count": null,
   "metadata": {},
   "outputs": [],
   "source": [
    "# Tính toán association rules \n",
    "rules = association_rules(frequent_itemsets, metric = 'support', min_threshold = 0.0)\n",
    "rules"
   ]
  },
  {
   "cell_type": "code",
   "execution_count": null,
   "metadata": {},
   "outputs": [],
   "source": [
    "rules.columns"
   ]
  },
  {
   "cell_type": "code",
   "execution_count": null,
   "metadata": {},
   "outputs": [],
   "source": [
    "rules[['antecedents', 'consequents']]"
   ]
  },
  {
   "cell_type": "code",
   "execution_count": null,
   "metadata": {},
   "outputs": [],
   "source": [
    "# Lọc theo từng chỉ số khác \n",
    "#targeted_rules = rules[rules['consequents'] == {}]"
   ]
  },
  {
   "cell_type": "code",
   "execution_count": null,
   "metadata": {},
   "outputs": [],
   "source": [
    "# Tính toán Zhang's rule\n",
    "rules['zhang'] = zhangs_rule(rules)\n",
    "# In rules mà là dissociation \n",
    "rules[rules['zhang'] < 0][['antecedents', 'consequents']]"
   ]
  },
  {
   "cell_type": "markdown",
   "metadata": {},
   "source": [
    "# Tài liệu tham khảo\n",
    "[1]. https://www.kaggle.com/c/instacart-market-basket-analysis\n",
    "* https://pbpython.com/market-basket-analysis.html\n",
    "* https://www.hackerearth.com/blog/developers/beginners-tutorial-apriori-algorithm-data-mining-r-implementation/\n",
    "* https://www.datacamp.com/community/tutorials/market-basket-analysis-r\n",
    "* https://www.kdnuggets.com/2019/12/market-basket-analysis.html\n",
    "* https://www2.deloitte.com/cz/en/pages/deloitte-analytics/solutions/market-basket-analysis.html\n",
    "* https://www.analyticsvidhya.com/blog/2021/10/end-to-end-introduction-to-market-basket-analysis-in-r/\n",
    "* https://www.youtube.com/watch?v=aslTl6i-hpQ\n",
    "* https://www.youtube.com/watch?v=guVvtZ7ZClw\n",
    "* https://www.youtube.com/watch?v=SVM_pX0oTU8\n",
    "* https://www.kaggle.com/pmarcelino/comprehensive-data-exploration-with-python\n",
    "* https://ccc.inaoep.mx/~villasen/bib/Computing%20the%20minimum-support%20for%20mining%20frequent.pdf\n",
    "* https://www.sciencedirect.com/science/article/pii/S0888613X04001392\n",
    "* https://www.sciencedirect.com/science/article/pii/S2314728816300460\n"
   ]
  },
  {
   "cell_type": "code",
   "execution_count": null,
   "metadata": {
    "scrolled": true
   },
   "outputs": [],
   "source": []
  }
 ],
 "metadata": {
  "kernelspec": {
   "display_name": "Python 3 (ipykernel)",
   "language": "python",
   "name": "python3"
  },
  "language_info": {
   "codemirror_mode": {
    "name": "ipython",
    "version": 3
   },
   "file_extension": ".py",
   "mimetype": "text/x-python",
   "name": "python",
   "nbconvert_exporter": "python",
   "pygments_lexer": "ipython3",
   "version": "3.9.7"
  }
 },
 "nbformat": 4,
 "nbformat_minor": 4
}
